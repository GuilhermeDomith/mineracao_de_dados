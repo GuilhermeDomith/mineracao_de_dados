{
 "cells": [
  {
   "cell_type": "code",
   "execution_count": 1,
   "metadata": {},
   "outputs": [],
   "source": [
    "import ipywidgets as widgets\n",
    "import matplotlib.pyplot as plt\n",
    "%matplotlib inline\n",
    "import numpy as np\n",
    "import requests\n",
    "import bs4, json, os\n",
    "from IPython.display import display, clear_output"
   ]
  },
  {
   "cell_type": "code",
   "execution_count": 2,
   "metadata": {},
   "outputs": [],
   "source": [
    "def senadores_eleitos():\n",
    "    \n",
    "    if os.path.exists('senadores.json'):\n",
    "        with open('senadores.json', 'r') as f:\n",
    "            return json.load(f)\n",
    "\n",
    "    res = requests.get(\"https://www.eleicoes2018.com/candidatos-senador/\")\n",
    "    html = bs4.BeautifulSoup(res.text, features='lxml')\n",
    "    candidatos_html = html.select('.card-candidate-results')\n",
    "    \n",
    "    candidatos = []\n",
    "    for tag_a in candidatos_html:\n",
    "        if tag_a.select_one('.elect-state') == None:\n",
    "            continue\n",
    "\n",
    "        c = {}\n",
    "        c['nome'], _, c['numero'] = tag_a.select_one('.candidate-name').getText().rpartition(' ')\n",
    "        c['partido'], _ , c['estado'] = tag_a.select_one('.candidate-party').getText().partition(' - ')\n",
    "        c['votos_porc'] = float(tag_a.select_one('.percentage').getText().replace('%', ''))\n",
    "        c['votos'] = int(tag_a.select_one('.number-votes').getText().rpartition(' ')[0].replace(' ', ''))\n",
    "        candidatos.append(c)\n",
    "\n",
    "    with open('senadores.json', 'w') as f:\n",
    "        f.write(json.dumps(candidatos))\n",
    "\n",
    "    return candidatos\n"
   ]
  },
  {
   "cell_type": "code",
   "execution_count": 3,
   "metadata": {},
   "outputs": [],
   "source": [
    "senadores = senadores_eleitos()\n",
    "\n",
    "partidos = set([ s['partido'] for s in senadores])\n",
    "estados = set([ s['estado'] for s in senadores])"
   ]
  },
  {
   "cell_type": "code",
   "execution_count": 4,
   "metadata": {
    "scrolled": true
   },
   "outputs": [],
   "source": [
    "def plotar_grafico(condicao, legendas=estados, key_legenda='estado'):\n",
    "    #plt.rcParams['figure.figsize'] = [15, 8]\n",
    "    _ , ax = plt.subplots()    \n",
    "    legenda = {'plots': [], 'leg': []}\n",
    "\n",
    "    for label in legendas:\n",
    "        senad = [s for s in senadores if condicao(s) and s[key_legenda] == label]\n",
    "        y = np.array([s['nome'] +' - '+ s['estado'] for s in senad])\n",
    "        x = np.array([s['votos_porc'] for s in senad])\n",
    "\n",
    "        if len(x) == 0: continue\n",
    "        x, y = zip(*sorted(zip(x, y)))\n",
    "\n",
    "        p1 = ax.barh(y, x)\n",
    "        legenda['plots'].append(p1[0])\n",
    "        legenda['leg'].append(label)\n",
    "\n",
    "    ax.grid()\n",
    "    ax.set(\n",
    "        xlabel='Porcentagem de votos (%)', \n",
    "        ylabel='Senador',\n",
    "        title='Senadores Eleitos'\n",
    "    )\n",
    "    \n",
    "    plt.legend(tuple(legenda['plots']), tuple(legenda['leg']))\n",
    "    plt.show()\n",
    "    \n"
   ]
  },
  {
   "cell_type": "code",
   "execution_count": 5,
   "metadata": {},
   "outputs": [],
   "source": [
    "drop_partido = widgets.Dropdown(\n",
    "    options=sorted(partidos),\n",
    "    value=list(partidos)[0],\n",
    "    description='Partido:',\n",
    "    disabled=False,\n",
    ")\n",
    "\n",
    "drop_estado = widgets.Dropdown(\n",
    "    options=sorted(estados),\n",
    "    value=list(estados)[0],\n",
    "    description='Estado:',\n",
    "    disabled=False,\n",
    ")\n",
    "\n",
    "slider_porcent = widgets.FloatRangeSlider(\n",
    "    value=[32.5, 60],\n",
    "    min=0,\n",
    "    max=100,\n",
    "    step=2.5,\n",
    "    description='Votos (%):',\n",
    "    disabled=False,\n",
    "    continuous_update=False,\n",
    "    orientation='horizontal',\n",
    "    readout=True,\n",
    "    readout_format='.1f',\n",
    ")\n",
    "\n",
    "def widget_modificado(e):\n",
    "    if e['name'] == 'value':\n",
    "        clear_output(wait=True)\n",
    "        display(e['owner'])\n",
    "        \n",
    "        if e['owner'] == drop_estado:\n",
    "            plotar_grafico(\n",
    "                lambda s: True if s['estado'] == e['new'] else False, \n",
    "                partidos, \n",
    "                'partido'\n",
    "            )\n",
    "        elif e['owner'] == drop_partido:\n",
    "            plotar_grafico(\n",
    "                lambda s: True if s['partido'] == e['new'] else False, \n",
    "                estados, \n",
    "                'estado'\n",
    "            )\n",
    "        else:\n",
    "            min, max = e['new']\n",
    "            plotar_grafico(\n",
    "                lambda s: True if s['votos_porc'] > min and s['votos_porc'] < max else False, \n",
    "                partidos, \n",
    "                'partido'\n",
    "            )\n"
   ]
  },
  {
   "cell_type": "code",
   "execution_count": 6,
   "metadata": {},
   "outputs": [],
   "source": [
    "drop_partido.observe(widget_modificado)\n",
    "drop_estado.observe(widget_modificado)\n",
    "slider_porcent.observe(widget_modificado)"
   ]
  },
  {
   "cell_type": "code",
   "execution_count": 7,
   "metadata": {},
   "outputs": [
    {
     "data": {
      "application/vnd.jupyter.widget-view+json": {
       "model_id": "48ff0239250646e8aa01836b4dd586f7",
       "version_major": 2,
       "version_minor": 0
      },
      "text/plain": [
       "Dropdown(description='Partido:', index=2, options=('DEM', 'MDB', 'PDT', 'PHS', 'PODE', 'PP', 'PPS', 'PR', 'PRB…"
      ]
     },
     "metadata": {},
     "output_type": "display_data"
    },
    {
     "data": {
      "image/png": "[encoded data removed]",
      "text/plain": [
       "<Figure size 432x288 with 1 Axes>"
      ]
     },
     "metadata": {},
     "output_type": "display_data"
    }
   ],
   "source": [
    "display(drop_partido)"
   ]
  },
  {
   "cell_type": "code",
   "execution_count": 8,
   "metadata": {},
   "outputs": [
    {
     "data": {
      "application/vnd.jupyter.widget-view+json": {
       "model_id": "abdc1ccab8104407852754b0bf9df0e0",
       "version_major": 2,
       "version_minor": 0
      },
      "text/plain": [
       "Dropdown(description='Estado:', index=10, options=('AC', 'AL', 'AM', 'AP', 'BA', 'CE', 'DF', 'ES', 'GO', 'MA',…"
      ]
     },
     "metadata": {},
     "output_type": "display_data"
    },
    {
     "data": {
      "image/png": "[encoded data removed]",
      "text/plain": [
       "<Figure size 432x288 with 1 Axes>"
      ]
     },
     "metadata": {},
     "output_type": "display_data"
    }
   ],
   "source": [
    " display(drop_estado)"
   ]
  },
  {
   "cell_type": "code",
   "execution_count": 9,
   "metadata": {},
   "outputs": [
    {
     "data": {
      "application/vnd.jupyter.widget-view+json": {
       "model_id": "38fca3c8f4d1463389ef4f7d10eecad6",
       "version_major": 2,
       "version_minor": 0
      },
      "text/plain": [
       "FloatRangeSlider(value=(32.5, 60.0), continuous_update=False, description='Votos (%):', readout_format='.1f', …"
      ]
     },
     "metadata": {},
     "output_type": "display_data"
    },
    {
     "data": {
      "image/png": "[encoded data removed]",
      "text/plain": [
       "<Figure size 432x288 with 1 Axes>"
      ]
     },
     "metadata": {},
     "output_type": "display_data"
    }
   ],
   "source": [
    "display(slider_porcent)"
   ]
  },
  {
   "cell_type": "code",
   "execution_count": null,
   "metadata": {},
   "outputs": [],
   "source": []
  }
 ],
 "metadata": {
  "kernelspec": {
   "display_name": "Python 3",
   "language": "python",
   "name": "python3"
  },
  "language_info": {
   "codemirror_mode": {
    "name": "ipython",
    "version": 3
   },
   "file_extension": ".py",
   "mimetype": "text/x-python",
   "name": "python",
   "nbconvert_exporter": "python",
   "pygments_lexer": "ipython3",
   "version": "3.6.5"
  }
 },
 "nbformat": 4,
 "nbformat_minor": 2
}
