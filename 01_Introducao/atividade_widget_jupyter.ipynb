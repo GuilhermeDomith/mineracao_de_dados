{
 "cells": [
  {
   "cell_type": "markdown",
   "metadata": {},
   "source": [
    "# Atividade Widget Jupyter\n",
    "Implementar um widget no Jupyter para controlar um gráfico interativamente."
   ]
  },
  {
   "cell_type": "code",
   "execution_count": 1,
   "metadata": {},
   "outputs": [],
   "source": [
    "from IPython.display import display, clear_output\n",
    "import ipywidgets as widgets\n",
    "import bs4, json, os, requests\n",
    "import numpy as np\n",
    "import matplotlib.pyplot as plt\n",
    "%matplotlib inline"
   ]
  },
  {
   "cell_type": "markdown",
   "metadata": {},
   "source": [
    "### Obtém os Senadores Eleitos em 2018\n",
    "Faz uma requisição ao site [Eleições 2018](https://www.eleicoes2018.com/candidatos-senador/) e obtém os dados dos senadores eleitos. Após toda a leitura grava os dados em um arquivo JSON para que próximas requisições não sejam necessárias."
   ]
  },
  {
   "cell_type": "code",
   "execution_count": 2,
   "metadata": {},
   "outputs": [],
   "source": [
    "def senadores_eleitos():\n",
    "    \n",
    "    if os.path.exists('senadores.json'):\n",
    "        with open('senadores.json', 'r') as f:\n",
    "            return json.load(f)\n",
    "\n",
    "    res = requests.get(\"https://www.eleicoes2018.com/candidatos-senador/\")\n",
    "    html = bs4.BeautifulSoup(res.text, features='lxml')\n",
    "    candidatos_html = html.select('.card-candidate-results')\n",
    "    \n",
    "    candidatos = []\n",
    "    for tag_a in candidatos_html:\n",
    "        # verifica se é um senador eleito.\n",
    "        if tag_a.select_one('.elect-state') == None:\n",
    "            continue\n",
    "\n",
    "        c = {}\n",
    "        c['nome'], _, c['numero'] = tag_a.select_one('.candidate-name').getText().rpartition(' ')\n",
    "        c['partido'], _ , c['estado'] = tag_a.select_one('.candidate-party').getText().partition(' - ')\n",
    "        c['votos_porc'] = float(tag_a.select_one('.percentage').getText().replace('%', ''))\n",
    "        c['votos'] = int(tag_a.select_one('.number-votes').getText().rpartition(' ')[0].replace(' ', ''))\n",
    "        candidatos.append(c)\n",
    "\n",
    "    with open('senadores.json', 'w') as f:\n",
    "        f.write(json.dumps(candidatos))\n",
    "\n",
    "    return candidatos\n"
   ]
  },
  {
   "cell_type": "code",
   "execution_count": 3,
   "metadata": {},
   "outputs": [],
   "source": [
    "senadores = senadores_eleitos()\n",
    "\n",
    "partidos = set([ s['partido'] for s in senadores])\n",
    "estados = set([ s['estado'] for s in senadores])"
   ]
  },
  {
   "cell_type": "markdown",
   "metadata": {},
   "source": [
    "### Plotar Gráfico\n",
    "\n",
    "Os senadores a serem exibidos no gráfico serão selecionados a partir da função <code>condicao(senador)</code>. A função deve retornar <code>True</code> se o parâmetro <code>senador</code> deve ser considerado no gráfico."
   ]
  },
  {
   "cell_type": "code",
   "execution_count": 4,
   "metadata": {
    "scrolled": true
   },
   "outputs": [],
   "source": [
    "def plotar_grafico(condicao, legendas=estados, key_legenda='estado'):\n",
    "    #plt.rcParams['figure.figsize'] = [15, 8]\n",
    "    _ , ax = plt.subplots()    \n",
    "    legenda = {'plots': [], 'leg': []}\n",
    "    \n",
    "    # Obtém os senadores de acordo com a condição passada por parâmetro.\n",
    "    senadores_selecionados = [s for s in senadores if condicao(s)]\n",
    "    \n",
    "    # Separa os candidatos para criar uma legenda para o gráfico.\n",
    "    for label in legendas:\n",
    "        y = np.array([s['nome'] +' - '+ s['estado'] for s in senadores_selecionados if s[key_legenda] == label])\n",
    "        x = np.array([s['votos_porc'] for s in senadores_selecionados if s[key_legenda] == label])\n",
    "\n",
    "        if len(x) == 0: continue\n",
    "        x, y = zip(*sorted(zip(x, y)))\n",
    "\n",
    "        p1 = ax.barh(y, x)\n",
    "        legenda['plots'].append(p1[0])\n",
    "        legenda['leg'].append(label)\n",
    "\n",
    "    ax.grid()\n",
    "    ax.set(\n",
    "        xlabel='Porcentagem de votos (%)', \n",
    "        ylabel='Senador',\n",
    "        title='Senadores Eleitos'\n",
    "    )\n",
    "    \n",
    "    plt.legend(tuple(legenda['plots']), tuple(legenda['leg']))\n",
    "    plt.show()\n",
    "    \n"
   ]
  },
  {
   "cell_type": "markdown",
   "metadata": {},
   "source": [
    "### Criação dos Widgets"
   ]
  },
  {
   "cell_type": "code",
   "execution_count": 5,
   "metadata": {},
   "outputs": [],
   "source": [
    "drop_partido = widgets.Dropdown(\n",
    "    options=sorted(partidos),\n",
    "    value=list(partidos)[0],\n",
    "    description='Partido:',\n",
    "    disabled=False,\n",
    ")\n",
    "\n",
    "drop_estado = widgets.Dropdown(\n",
    "    options=sorted(estados),\n",
    "    value=list(estados)[0],\n",
    "    description='Estado:',\n",
    "    disabled=False,\n",
    ")\n",
    "\n",
    "slider_porcent = widgets.FloatRangeSlider(\n",
    "    value=[32.5, 60],\n",
    "    min=0,\n",
    "    max=100,\n",
    "    step=2.5,\n",
    "    description='Votos (%):',\n",
    "    disabled=False,\n",
    "    continuous_update=False,\n",
    "    orientation='horizontal',\n",
    "    readout=True,\n",
    "    readout_format='.1f',\n",
    ")"
   ]
  },
  {
   "cell_type": "markdown",
   "metadata": {},
   "source": [
    "### Tratando eventos dos widgets"
   ]
  },
  {
   "cell_type": "code",
   "execution_count": 6,
   "metadata": {},
   "outputs": [],
   "source": [
    "def widget_modificado(e):\n",
    "    if e['name'] == 'value':\n",
    "        clear_output(wait=True)\n",
    "        display(e['owner'])\n",
    "        \n",
    "        if e['owner'] == drop_estado:\n",
    "            plotar_grafico(\n",
    "                lambda s: True if s['estado'] == e['new'] else False, \n",
    "                partidos, \n",
    "                'partido'\n",
    "            )\n",
    "        elif e['owner'] == drop_partido:\n",
    "            plotar_grafico(\n",
    "                lambda s: True if s['partido'] == e['new'] else False, \n",
    "                estados, \n",
    "                'estado'\n",
    "            )\n",
    "        else:\n",
    "            min, max = e['new']\n",
    "            plotar_grafico(\n",
    "                lambda s: True if s['votos_porc'] > min and s['votos_porc'] < max else False, \n",
    "                partidos, \n",
    "                'partido'\n",
    "            )\n",
    "\n",
    "            \n",
    "drop_partido.observe(widget_modificado)\n",
    "drop_estado.observe(widget_modificado)\n",
    "slider_porcent.observe(widget_modificado)"
   ]
  },
  {
   "cell_type": "markdown",
   "metadata": {},
   "source": [
    "### Interação com os gráficos"
   ]
  },
  {
   "cell_type": "code",
   "execution_count": 7,
   "metadata": {},
   "outputs": [
    {
     "data": {
      "application/vnd.jupyter.widget-view+json": {
       "model_id": "1a2843ff85d04170b1b1094d11feacf9",
       "version_major": 2,
       "version_minor": 0
      },
      "text/plain": [
       "Dropdown(description='Partido:', options=('DEM', 'MDB', 'PDT', 'PHS', 'PODE', 'PP', 'PPS', 'PR', 'PRB', 'PROS'…"
      ]
     },
     "metadata": {},
     "output_type": "display_data"
    },
    {
     "data": {
      "image/png": "[encoded data removed]",
      "text/plain": [
       "<Figure size 432x288 with 1 Axes>"
      ]
     },
     "metadata": {},
     "output_type": "display_data"
    }
   ],
   "source": [
    "display(drop_partido)"
   ]
  },
  {
   "cell_type": "code",
   "execution_count": 8,
   "metadata": {},
   "outputs": [
    {
     "data": {
      "application/vnd.jupyter.widget-view+json": {
       "model_id": "695317d3b7e043759b32f97e14fceef1",
       "version_major": 2,
       "version_minor": 0
      },
      "text/plain": [
       "Dropdown(description='Estado:', index=10, options=('AC', 'AL', 'AM', 'AP', 'BA', 'CE', 'DF', 'ES', 'GO', 'MA',…"
      ]
     },
     "metadata": {},
     "output_type": "display_data"
    },
    {
     "data": {
      "image/png": "[encoded data removed]",
      "text/plain": [
       "<Figure size 432x288 with 1 Axes>"
      ]
     },
     "metadata": {},
     "output_type": "display_data"
    }
   ],
   "source": [
    " display(drop_estado)"
   ]
  },
  {
   "cell_type": "code",
   "execution_count": 9,
   "metadata": {},
   "outputs": [
    {
     "data": {
      "application/vnd.jupyter.widget-view+json": {
       "model_id": "4630672028f24862b7ace03497eb84f7",
       "version_major": 2,
       "version_minor": 0
      },
      "text/plain": [
       "FloatRangeSlider(value=(30.0, 60.0), continuous_update=False, description='Votos (%):', readout_format='.1f', …"
      ]
     },
     "metadata": {},
     "output_type": "display_data"
    },
    {
     "data": {
      "image/png": "[encoded data removed]",
      "text/plain": [
       "<Figure size 432x288 with 1 Axes>"
      ]
     },
     "metadata": {},
     "output_type": "display_data"
    }
   ],
   "source": [
    "display(slider_porcent)"
   ]
  }
 ],
 "metadata": {
  "kernelspec": {
   "display_name": "Python 3",
   "language": "python",
   "name": "python3"
  },
  "language_info": {
   "codemirror_mode": {
    "name": "ipython",
    "version": 3
   },
   "file_extension": ".py",
   "mimetype": "text/x-python",
   "name": "python",
   "nbconvert_exporter": "python",
   "pygments_lexer": "ipython3",
   "version": "3.6.5"
  }
 },
 "nbformat": 4,
 "nbformat_minor": 2
}
