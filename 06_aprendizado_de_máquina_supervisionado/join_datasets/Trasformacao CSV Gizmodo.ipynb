{
 "cells": [
  {
   "cell_type": "code",
   "execution_count": 178,
   "metadata": {},
   "outputs": [],
   "source": [
    "import pandas as pd\n",
    "import re\n",
    "import numpy as np"
   ]
  },
  {
   "cell_type": "code",
   "execution_count": 5,
   "metadata": {},
   "outputs": [],
   "source": [
    "df = pd.read_csv('noticias_gizmodo.csv')"
   ]
  },
  {
   "cell_type": "code",
   "execution_count": 6,
   "metadata": {},
   "outputs": [
    {
     "data": {
      "text/html": [
       "<div>\n",
       "<style scoped>\n",
       "    .dataframe tbody tr th:only-of-type {\n",
       "        vertical-align: middle;\n",
       "    }\n",
       "\n",
       "    .dataframe tbody tr th {\n",
       "        vertical-align: top;\n",
       "    }\n",
       "\n",
       "    .dataframe thead th {\n",
       "        text-align: right;\n",
       "    }\n",
       "</style>\n",
       "<table border=\"1\" class=\"dataframe\">\n",
       "  <thead>\n",
       "    <tr style=\"text-align: right;\">\n",
       "      <th></th>\n",
       "      <th>autor</th>\n",
       "      <th>categoria</th>\n",
       "      <th>publicacao</th>\n",
       "      <th>texto</th>\n",
       "      <th>titulo</th>\n",
       "      <th>url</th>\n",
       "      <th>doc</th>\n",
       "    </tr>\n",
       "  </thead>\n",
       "  <tbody>\n",
       "    <tr>\n",
       "      <th>0</th>\n",
       "      <td>David Nield</td>\n",
       "      <td>smartphones</td>\n",
       "      <td>2018-11-25 17:11:58</td>\n",
       "      <td>O que você procura saber ao escolher um novo s...</td>\n",
       "      <td>5 detalhes para ficar de olho nas especificaçõ...</td>\n",
       "      <td>https://gizmodo.uol.com.br/5-especificacoes-sm...</td>\n",
       "      <td>smartphon detalh fic olh especificaco prox sma...</td>\n",
       "    </tr>\n",
       "    <tr>\n",
       "      <th>1</th>\n",
       "      <td>Ryan F. Mandelbaum</td>\n",
       "      <td>espaço</td>\n",
       "      <td>2018-11-25 15:28:37</td>\n",
       "      <td>Cinco sextos da “coisa” que compõe o universo ...</td>\n",
       "      <td>O que é matéria escura e por que ninguém a enc...</td>\n",
       "      <td>https://gizmodo.uol.com.br/o-que-e-materia-esc...</td>\n",
       "      <td>espac mat escur ning encontr aind cinc sext co...</td>\n",
       "    </tr>\n",
       "    <tr>\n",
       "      <th>2</th>\n",
       "      <td>George Dvorsky</td>\n",
       "      <td>animais</td>\n",
       "      <td>2018-11-25 12:59:49</td>\n",
       "      <td>Como humanos, gostamos de pensar que somos a ú...</td>\n",
       "      <td>Chimpanzés podem ser manipuladores assim como ...</td>\n",
       "      <td>https://gizmodo.uol.com.br/chimpanzes-manipula...</td>\n",
       "      <td>animal chimpanz pod ser manipul assim human di...</td>\n",
       "    </tr>\n",
       "    <tr>\n",
       "      <th>3</th>\n",
       "      <td>Adam Clark Estes</td>\n",
       "      <td>review</td>\n",
       "      <td>2018-11-25 10:49:05</td>\n",
       "      <td>Vou começar dizendo algo importante sobre os h...</td>\n",
       "      <td>[Review] Headphones Surface, da Microsoft, são...</td>\n",
       "      <td>https://gizmodo.uol.com.br/review-microsoft-he...</td>\n",
       "      <td>review review headphon surfac microsoft pouc d...</td>\n",
       "    </tr>\n",
       "    <tr>\n",
       "      <th>4</th>\n",
       "      <td>Leo Escudeiro</td>\n",
       "      <td>China</td>\n",
       "      <td>2018-11-24 17:27:39</td>\n",
       "      <td>Em agosto, Donald Trump proibiu o uso de tecno...</td>\n",
       "      <td>Estados Unidos pedem que governos aliados não ...</td>\n",
       "      <td>https://gizmodo.uol.com.br/estados-unidos-gove...</td>\n",
       "      <td>chin est unid ped govern ali us disposi chin h...</td>\n",
       "    </tr>\n",
       "  </tbody>\n",
       "</table>\n",
       "</div>"
      ],
      "text/plain": [
       "                autor    categoria           publicacao  \\\n",
       "0         David Nield  smartphones  2018-11-25 17:11:58   \n",
       "1  Ryan F. Mandelbaum       espaço  2018-11-25 15:28:37   \n",
       "2      George Dvorsky      animais  2018-11-25 12:59:49   \n",
       "3    Adam Clark Estes       review  2018-11-25 10:49:05   \n",
       "4       Leo Escudeiro        China  2018-11-24 17:27:39   \n",
       "\n",
       "                                               texto  \\\n",
       "0  O que você procura saber ao escolher um novo s...   \n",
       "1  Cinco sextos da “coisa” que compõe o universo ...   \n",
       "2  Como humanos, gostamos de pensar que somos a ú...   \n",
       "3  Vou começar dizendo algo importante sobre os h...   \n",
       "4  Em agosto, Donald Trump proibiu o uso de tecno...   \n",
       "\n",
       "                                              titulo  \\\n",
       "0  5 detalhes para ficar de olho nas especificaçõ...   \n",
       "1  O que é matéria escura e por que ninguém a enc...   \n",
       "2  Chimpanzés podem ser manipuladores assim como ...   \n",
       "3  [Review] Headphones Surface, da Microsoft, são...   \n",
       "4  Estados Unidos pedem que governos aliados não ...   \n",
       "\n",
       "                                                 url  \\\n",
       "0  https://gizmodo.uol.com.br/5-especificacoes-sm...   \n",
       "1  https://gizmodo.uol.com.br/o-que-e-materia-esc...   \n",
       "2  https://gizmodo.uol.com.br/chimpanzes-manipula...   \n",
       "3  https://gizmodo.uol.com.br/review-microsoft-he...   \n",
       "4  https://gizmodo.uol.com.br/estados-unidos-gove...   \n",
       "\n",
       "                                                 doc  \n",
       "0  smartphon detalh fic olh especificaco prox sma...  \n",
       "1  espac mat escur ning encontr aind cinc sext co...  \n",
       "2  animal chimpanz pod ser manipul assim human di...  \n",
       "3  review review headphon surfac microsoft pouc d...  \n",
       "4  chin est unid ped govern ali us disposi chin h...  "
      ]
     },
     "execution_count": 6,
     "metadata": {},
     "output_type": "execute_result"
    }
   ],
   "source": [
    "df.head()"
   ]
  },
  {
   "cell_type": "code",
   "execution_count": 155,
   "metadata": {},
   "outputs": [],
   "source": [
    "def remover_topicos_e_legendas(row):\n",
    "    texto = row['texto']\n",
    "    \n",
    "    # Remove sugestões de notícias\n",
    "    texto = re.sub('(\\r\\n•.*[\\w\\d\\s\\[\\]:]*\\r)+', '', texto)\n",
    "    \n",
    "    # Remove legenda de imagens\n",
    "    texto = re.sub('Imagem: .*\\n', '', texto)\n",
    "    texto = re.sub('Foto: .*\\n', '', texto)\n",
    "        \n",
    "    return texto"
   ]
  },
  {
   "cell_type": "code",
   "execution_count": 156,
   "metadata": {},
   "outputs": [],
   "source": [
    "df['texto'] = df.apply(remover_topicos_e_legendas, axis=1)"
   ]
  },
  {
   "cell_type": "code",
   "execution_count": 167,
   "metadata": {},
   "outputs": [],
   "source": [
    "df['texto'] = df.apply(lambda row: row['titulo'] + '\\n\\n'+ row['texto'], axis=1)"
   ]
  },
  {
   "cell_type": "code",
   "execution_count": 182,
   "metadata": {},
   "outputs": [],
   "source": [
    "df_noticias = df[['texto']].copy()"
   ]
  },
  {
   "cell_type": "code",
   "execution_count": 183,
   "metadata": {},
   "outputs": [],
   "source": [
    "df_noticias['target'] = 0"
   ]
  },
  {
   "cell_type": "code",
   "execution_count": 185,
   "metadata": {},
   "outputs": [
    {
     "data": {
      "text/html": [
       "<div>\n",
       "<style scoped>\n",
       "    .dataframe tbody tr th:only-of-type {\n",
       "        vertical-align: middle;\n",
       "    }\n",
       "\n",
       "    .dataframe tbody tr th {\n",
       "        vertical-align: top;\n",
       "    }\n",
       "\n",
       "    .dataframe thead th {\n",
       "        text-align: right;\n",
       "    }\n",
       "</style>\n",
       "<table border=\"1\" class=\"dataframe\">\n",
       "  <thead>\n",
       "    <tr style=\"text-align: right;\">\n",
       "      <th></th>\n",
       "      <th>texto</th>\n",
       "      <th>target</th>\n",
       "    </tr>\n",
       "  </thead>\n",
       "  <tbody>\n",
       "    <tr>\n",
       "      <th>0</th>\n",
       "      <td>5 detalhes para ficar de olho nas especificaçõ...</td>\n",
       "      <td>0</td>\n",
       "    </tr>\n",
       "    <tr>\n",
       "      <th>1</th>\n",
       "      <td>O que é matéria escura e por que ninguém a enc...</td>\n",
       "      <td>0</td>\n",
       "    </tr>\n",
       "    <tr>\n",
       "      <th>2</th>\n",
       "      <td>Chimpanzés podem ser manipuladores assim como ...</td>\n",
       "      <td>0</td>\n",
       "    </tr>\n",
       "    <tr>\n",
       "      <th>3</th>\n",
       "      <td>[Review] Headphones Surface, da Microsoft, são...</td>\n",
       "      <td>0</td>\n",
       "    </tr>\n",
       "    <tr>\n",
       "      <th>4</th>\n",
       "      <td>Estados Unidos pedem que governos aliados não ...</td>\n",
       "      <td>0</td>\n",
       "    </tr>\n",
       "  </tbody>\n",
       "</table>\n",
       "</div>"
      ],
      "text/plain": [
       "                                               texto  target\n",
       "0  5 detalhes para ficar de olho nas especificaçõ...       0\n",
       "1  O que é matéria escura e por que ninguém a enc...       0\n",
       "2  Chimpanzés podem ser manipuladores assim como ...       0\n",
       "3  [Review] Headphones Surface, da Microsoft, são...       0\n",
       "4  Estados Unidos pedem que governos aliados não ...       0"
      ]
     },
     "execution_count": 185,
     "metadata": {},
     "output_type": "execute_result"
    }
   ],
   "source": [
    "df_noticias.head()"
   ]
  },
  {
   "cell_type": "code",
   "execution_count": 186,
   "metadata": {},
   "outputs": [],
   "source": [
    "df_noticias.columns = ['noticia', 'target']"
   ]
  },
  {
   "cell_type": "code",
   "execution_count": 187,
   "metadata": {},
   "outputs": [
    {
     "data": {
      "text/html": [
       "<div>\n",
       "<style scoped>\n",
       "    .dataframe tbody tr th:only-of-type {\n",
       "        vertical-align: middle;\n",
       "    }\n",
       "\n",
       "    .dataframe tbody tr th {\n",
       "        vertical-align: top;\n",
       "    }\n",
       "\n",
       "    .dataframe thead th {\n",
       "        text-align: right;\n",
       "    }\n",
       "</style>\n",
       "<table border=\"1\" class=\"dataframe\">\n",
       "  <thead>\n",
       "    <tr style=\"text-align: right;\">\n",
       "      <th></th>\n",
       "      <th>noticia</th>\n",
       "      <th>target</th>\n",
       "    </tr>\n",
       "  </thead>\n",
       "  <tbody>\n",
       "    <tr>\n",
       "      <th>0</th>\n",
       "      <td>5 detalhes para ficar de olho nas especificaçõ...</td>\n",
       "      <td>0</td>\n",
       "    </tr>\n",
       "    <tr>\n",
       "      <th>1</th>\n",
       "      <td>O que é matéria escura e por que ninguém a enc...</td>\n",
       "      <td>0</td>\n",
       "    </tr>\n",
       "    <tr>\n",
       "      <th>2</th>\n",
       "      <td>Chimpanzés podem ser manipuladores assim como ...</td>\n",
       "      <td>0</td>\n",
       "    </tr>\n",
       "    <tr>\n",
       "      <th>3</th>\n",
       "      <td>[Review] Headphones Surface, da Microsoft, são...</td>\n",
       "      <td>0</td>\n",
       "    </tr>\n",
       "    <tr>\n",
       "      <th>4</th>\n",
       "      <td>Estados Unidos pedem que governos aliados não ...</td>\n",
       "      <td>0</td>\n",
       "    </tr>\n",
       "  </tbody>\n",
       "</table>\n",
       "</div>"
      ],
      "text/plain": [
       "                                             noticia  target\n",
       "0  5 detalhes para ficar de olho nas especificaçõ...       0\n",
       "1  O que é matéria escura e por que ninguém a enc...       0\n",
       "2  Chimpanzés podem ser manipuladores assim como ...       0\n",
       "3  [Review] Headphones Surface, da Microsoft, são...       0\n",
       "4  Estados Unidos pedem que governos aliados não ...       0"
      ]
     },
     "execution_count": 187,
     "metadata": {},
     "output_type": "execute_result"
    }
   ],
   "source": [
    "df_noticias.head()"
   ]
  },
  {
   "cell_type": "code",
   "execution_count": 188,
   "metadata": {},
   "outputs": [
    {
     "data": {
      "text/plain": [
       "(1954, 2)"
      ]
     },
     "execution_count": 188,
     "metadata": {},
     "output_type": "execute_result"
    }
   ],
   "source": [
    "df_noticias.shape"
   ]
  },
  {
   "cell_type": "code",
   "execution_count": 189,
   "metadata": {},
   "outputs": [],
   "source": [
    "df_noticias.to_csv('noticias_gizmodo.csv', index=False)"
   ]
  },
  {
   "cell_type": "code",
   "execution_count": null,
   "metadata": {},
   "outputs": [],
   "source": []
  }
 ],
 "metadata": {
  "kernelspec": {
   "display_name": "Python 3",
   "language": "python",
   "name": "python3"
  },
  "language_info": {
   "codemirror_mode": {
    "name": "ipython",
    "version": 3
   },
   "file_extension": ".py",
   "mimetype": "text/x-python",
   "name": "python",
   "nbconvert_exporter": "python",
   "pygments_lexer": "ipython3",
   "version": "3.7.1"
  }
 },
 "nbformat": 4,
 "nbformat_minor": 2
}
