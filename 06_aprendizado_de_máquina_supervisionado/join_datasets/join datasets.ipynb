{
 "cells": [
  {
   "cell_type": "code",
   "execution_count": 1,
   "metadata": {},
   "outputs": [],
   "source": [
    "import pandas as pd\n",
    "import numpy as np\n",
    "\n",
    "from sklearn.model_selection import train_test_split"
   ]
  },
  {
   "cell_type": "code",
   "execution_count": 2,
   "metadata": {},
   "outputs": [
    {
     "data": {
      "text/html": [
       "<div>\n",
       "<style scoped>\n",
       "    .dataframe tbody tr th:only-of-type {\n",
       "        vertical-align: middle;\n",
       "    }\n",
       "\n",
       "    .dataframe tbody tr th {\n",
       "        vertical-align: top;\n",
       "    }\n",
       "\n",
       "    .dataframe thead th {\n",
       "        text-align: right;\n",
       "    }\n",
       "</style>\n",
       "<table border=\"1\" class=\"dataframe\">\n",
       "  <thead>\n",
       "    <tr style=\"text-align: right;\">\n",
       "      <th></th>\n",
       "      <th>titulo</th>\n",
       "      <th>subtitulo</th>\n",
       "      <th>conteudo</th>\n",
       "      <th>link</th>\n",
       "      <th>target</th>\n",
       "    </tr>\n",
       "  </thead>\n",
       "  <tbody>\n",
       "    <tr>\n",
       "      <th>0</th>\n",
       "      <td>Carona com Deyverson: atacante do Palmeiras ab...</td>\n",
       "      <td>Autor do gol do décimo título brasileiro do Ve...</td>\n",
       "      <td>Deyverson foi o convidado do quadro \"Carona co...</td>\n",
       "      <td>https://globoesporte.globo.com/futebol/times/p...</td>\n",
       "      <td>1</td>\n",
       "    </tr>\n",
       "    <tr>\n",
       "      <th>1</th>\n",
       "      <td>River x Boca: final da Libertadores em Madri t...</td>\n",
       "      <td>Até véspera do anúncio, Doha era favorita para...</td>\n",
       "      <td>Um telefonema na manhã de quinta-feira entre o...</td>\n",
       "      <td>https://globoesporte.globo.com/futebol/liberta...</td>\n",
       "      <td>1</td>\n",
       "    </tr>\n",
       "    <tr>\n",
       "      <th>2</th>\n",
       "      <td>E-Brasileirão 2018</td>\n",
       "      <td>Assista ao vivo à fase final do campeonato de ...</td>\n",
       "      <td>NaN</td>\n",
       "      <td>https://sportv.globo.com/site/e-sportv/ao-vivo...</td>\n",
       "      <td>1</td>\n",
       "    </tr>\n",
       "    <tr>\n",
       "      <th>3</th>\n",
       "      <td>Inauguração de estátua de Renato Gaúcho no Grê...</td>\n",
       "      <td>Previsão para conclusão era 15 de setembro, ma...</td>\n",
       "      <td>Renato Gaúcho acertou sua renovação de contrat...</td>\n",
       "      <td>https://globoesporte.globo.com/rs/futebol/time...</td>\n",
       "      <td>1</td>\n",
       "    </tr>\n",
       "    <tr>\n",
       "      <th>4</th>\n",
       "      <td>Zagallo visita novo CT do Flamengo antes de in...</td>\n",
       "      <td>Ex-técnico do Flamengo e da seleção brasileira...</td>\n",
       "      <td>Zagallo \"furou\" a festa e foi o primeiro a con...</td>\n",
       "      <td>https://globoesporte.globo.com/futebol/times/f...</td>\n",
       "      <td>1</td>\n",
       "    </tr>\n",
       "  </tbody>\n",
       "</table>\n",
       "</div>"
      ],
      "text/plain": [
       "                                              titulo  \\\n",
       "0  Carona com Deyverson: atacante do Palmeiras ab...   \n",
       "1  River x Boca: final da Libertadores em Madri t...   \n",
       "2                                 E-Brasileirão 2018   \n",
       "3  Inauguração de estátua de Renato Gaúcho no Grê...   \n",
       "4  Zagallo visita novo CT do Flamengo antes de in...   \n",
       "\n",
       "                                           subtitulo  \\\n",
       "0  Autor do gol do décimo título brasileiro do Ve...   \n",
       "1  Até véspera do anúncio, Doha era favorita para...   \n",
       "2  Assista ao vivo à fase final do campeonato de ...   \n",
       "3  Previsão para conclusão era 15 de setembro, ma...   \n",
       "4  Ex-técnico do Flamengo e da seleção brasileira...   \n",
       "\n",
       "                                            conteudo  \\\n",
       "0  Deyverson foi o convidado do quadro \"Carona co...   \n",
       "1  Um telefonema na manhã de quinta-feira entre o...   \n",
       "2                                                NaN   \n",
       "3  Renato Gaúcho acertou sua renovação de contrat...   \n",
       "4  Zagallo \"furou\" a festa e foi o primeiro a con...   \n",
       "\n",
       "                                                link  target  \n",
       "0  https://globoesporte.globo.com/futebol/times/p...       1  \n",
       "1  https://globoesporte.globo.com/futebol/liberta...       1  \n",
       "2  https://sportv.globo.com/site/e-sportv/ao-vivo...       1  \n",
       "3  https://globoesporte.globo.com/rs/futebol/time...       1  \n",
       "4  https://globoesporte.globo.com/futebol/times/f...       1  "
      ]
     },
     "execution_count": 2,
     "metadata": {},
     "output_type": "execute_result"
    }
   ],
   "source": [
    "df1 = pd.read_csv('noticias_esportes.csv')\n",
    "df1.head()"
   ]
  },
  {
   "cell_type": "code",
   "execution_count": 3,
   "metadata": {},
   "outputs": [
    {
     "data": {
      "text/plain": [
       "(5008, 5)"
      ]
     },
     "execution_count": 3,
     "metadata": {},
     "output_type": "execute_result"
    }
   ],
   "source": [
    "df1.shape"
   ]
  },
  {
   "cell_type": "code",
   "execution_count": 4,
   "metadata": {},
   "outputs": [],
   "source": [
    "df1 = df1.fillna('')"
   ]
  },
  {
   "cell_type": "code",
   "execution_count": 5,
   "metadata": {},
   "outputs": [],
   "source": [
    "df1['conteudo'] = df1.apply(lambda row: row['titulo'] +'\\n\\n'+ row['subtitulo'] +'\\n\\n'+ row['conteudo'], axis=1)"
   ]
  },
  {
   "cell_type": "code",
   "execution_count": 6,
   "metadata": {},
   "outputs": [],
   "source": [
    "df1 = df1[['conteudo', 'target']].copy()\n",
    "df1.columns = ['noticia', 'target']"
   ]
  },
  {
   "cell_type": "code",
   "execution_count": 7,
   "metadata": {},
   "outputs": [
    {
     "data": {
      "text/html": [
       "<div>\n",
       "<style scoped>\n",
       "    .dataframe tbody tr th:only-of-type {\n",
       "        vertical-align: middle;\n",
       "    }\n",
       "\n",
       "    .dataframe tbody tr th {\n",
       "        vertical-align: top;\n",
       "    }\n",
       "\n",
       "    .dataframe thead th {\n",
       "        text-align: right;\n",
       "    }\n",
       "</style>\n",
       "<table border=\"1\" class=\"dataframe\">\n",
       "  <thead>\n",
       "    <tr style=\"text-align: right;\">\n",
       "      <th></th>\n",
       "      <th>noticia</th>\n",
       "      <th>target</th>\n",
       "    </tr>\n",
       "  </thead>\n",
       "  <tbody>\n",
       "    <tr>\n",
       "      <th>0</th>\n",
       "      <td>Carona com Deyverson: atacante do Palmeiras ab...</td>\n",
       "      <td>1</td>\n",
       "    </tr>\n",
       "    <tr>\n",
       "      <th>1</th>\n",
       "      <td>River x Boca: final da Libertadores em Madri t...</td>\n",
       "      <td>1</td>\n",
       "    </tr>\n",
       "    <tr>\n",
       "      <th>2</th>\n",
       "      <td>E-Brasileirão 2018\\n\\nAssista ao vivo à fase f...</td>\n",
       "      <td>1</td>\n",
       "    </tr>\n",
       "    <tr>\n",
       "      <th>3</th>\n",
       "      <td>Inauguração de estátua de Renato Gaúcho no Grê...</td>\n",
       "      <td>1</td>\n",
       "    </tr>\n",
       "    <tr>\n",
       "      <th>4</th>\n",
       "      <td>Zagallo visita novo CT do Flamengo antes de in...</td>\n",
       "      <td>1</td>\n",
       "    </tr>\n",
       "  </tbody>\n",
       "</table>\n",
       "</div>"
      ],
      "text/plain": [
       "                                             noticia  target\n",
       "0  Carona com Deyverson: atacante do Palmeiras ab...       1\n",
       "1  River x Boca: final da Libertadores em Madri t...       1\n",
       "2  E-Brasileirão 2018\\n\\nAssista ao vivo à fase f...       1\n",
       "3  Inauguração de estátua de Renato Gaúcho no Grê...       1\n",
       "4  Zagallo visita novo CT do Flamengo antes de in...       1"
      ]
     },
     "execution_count": 7,
     "metadata": {},
     "output_type": "execute_result"
    }
   ],
   "source": [
    "df1.head()"
   ]
  },
  {
   "cell_type": "code",
   "execution_count": 8,
   "metadata": {},
   "outputs": [
    {
     "name": "stdout",
     "output_type": "stream",
     "text": [
      "Carona com Deyverson: atacante do Palmeiras abre sua casa e dá show em frente às câmeras\n",
      "\n",
      "Autor do gol do décimo título brasileiro do Verdão participa de quadro com Ivan Moré no Globo Esporte SP\n",
      "\n",
      "Deyverson foi o convidado do quadro \"Carona com Ivan Moré\" no Globo Esporte SP desta sexta-feira. O autor do gol do décimo título brasileiro do Palmeiras passeou de carro com o apresentador pela ruas de São Paulo. Veja no vídeo abaixo. \r\n",
      "O apresentador buscou Deyverson em casa e o levou para a Academia de Futebol. No trajeto teve aula piscadinha do pupilo de Felipão. \r\n",
      "Antes da resenha sob quatro rodas, Deyverson abriu a porta de seu apartamento para a nossa equipe. O jogador, que está solteiro, mora com um irmão e sempre recebe amigos do Rio de Janeiro. Com vários homens dentro de casa, a bagunça é completa, com roupas pra tudo quanto é lado. \r\n",
      "Ivan Moré já chegou abrindo geladeira e o frigobar para conferir a dieta de Deyverson e o guarda-roupa pra conferir o estilo do boleiro. \r\n",
      "Já prontos para o rolê de carro, Deyverson abriu seu coração: falou do passado e futuro e é claro, do Palmeiras e da saga de comemoração do título também – veja como foi a participação do atacante no quadro \"Carona com Ivan Moré\" no vídeo acima. Abaixo, veja um top 10 de Deyverson no Campeonato Brasileiro. \r\n",
      "+ Veja notícias do Palmeiras \r\n",
      "\n"
     ]
    }
   ],
   "source": [
    "print(df1.iloc[0]['noticia'])"
   ]
  },
  {
   "cell_type": "code",
   "execution_count": null,
   "metadata": {},
   "outputs": [],
   "source": []
  },
  {
   "cell_type": "code",
   "execution_count": 9,
   "metadata": {},
   "outputs": [
    {
     "data": {
      "text/html": [
       "<div>\n",
       "<style scoped>\n",
       "    .dataframe tbody tr th:only-of-type {\n",
       "        vertical-align: middle;\n",
       "    }\n",
       "\n",
       "    .dataframe tbody tr th {\n",
       "        vertical-align: top;\n",
       "    }\n",
       "\n",
       "    .dataframe thead th {\n",
       "        text-align: right;\n",
       "    }\n",
       "</style>\n",
       "<table border=\"1\" class=\"dataframe\">\n",
       "  <thead>\n",
       "    <tr style=\"text-align: right;\">\n",
       "      <th></th>\n",
       "      <th>noticia</th>\n",
       "      <th>target</th>\n",
       "    </tr>\n",
       "  </thead>\n",
       "  <tbody>\n",
       "    <tr>\n",
       "      <th>0</th>\n",
       "      <td>5 detalhes para ficar de olho nas especificaçõ...</td>\n",
       "      <td>0</td>\n",
       "    </tr>\n",
       "    <tr>\n",
       "      <th>1</th>\n",
       "      <td>O que é matéria escura e por que ninguém a enc...</td>\n",
       "      <td>0</td>\n",
       "    </tr>\n",
       "    <tr>\n",
       "      <th>2</th>\n",
       "      <td>Chimpanzés podem ser manipuladores assim como ...</td>\n",
       "      <td>0</td>\n",
       "    </tr>\n",
       "    <tr>\n",
       "      <th>3</th>\n",
       "      <td>[Review] Headphones Surface, da Microsoft, são...</td>\n",
       "      <td>0</td>\n",
       "    </tr>\n",
       "    <tr>\n",
       "      <th>4</th>\n",
       "      <td>Estados Unidos pedem que governos aliados não ...</td>\n",
       "      <td>0</td>\n",
       "    </tr>\n",
       "  </tbody>\n",
       "</table>\n",
       "</div>"
      ],
      "text/plain": [
       "                                             noticia  target\n",
       "0  5 detalhes para ficar de olho nas especificaçõ...       0\n",
       "1  O que é matéria escura e por que ninguém a enc...       0\n",
       "2  Chimpanzés podem ser manipuladores assim como ...       0\n",
       "3  [Review] Headphones Surface, da Microsoft, são...       0\n",
       "4  Estados Unidos pedem que governos aliados não ...       0"
      ]
     },
     "execution_count": 9,
     "metadata": {},
     "output_type": "execute_result"
    }
   ],
   "source": [
    "df2 = pd.read_csv('noticias_gizmodo.csv')\n",
    "df2.head()"
   ]
  },
  {
   "cell_type": "code",
   "execution_count": 10,
   "metadata": {},
   "outputs": [
    {
     "data": {
      "text/plain": [
       "(1954, 2)"
      ]
     },
     "execution_count": 10,
     "metadata": {},
     "output_type": "execute_result"
    }
   ],
   "source": [
    "df2.shape"
   ]
  },
  {
   "cell_type": "code",
   "execution_count": null,
   "metadata": {},
   "outputs": [],
   "source": []
  },
  {
   "cell_type": "code",
   "execution_count": 11,
   "metadata": {},
   "outputs": [
    {
     "data": {
      "text/html": [
       "<div>\n",
       "<style scoped>\n",
       "    .dataframe tbody tr th:only-of-type {\n",
       "        vertical-align: middle;\n",
       "    }\n",
       "\n",
       "    .dataframe tbody tr th {\n",
       "        vertical-align: top;\n",
       "    }\n",
       "\n",
       "    .dataframe thead th {\n",
       "        text-align: right;\n",
       "    }\n",
       "</style>\n",
       "<table border=\"1\" class=\"dataframe\">\n",
       "  <thead>\n",
       "    <tr style=\"text-align: right;\">\n",
       "      <th></th>\n",
       "      <th>noticia</th>\n",
       "      <th>target</th>\n",
       "    </tr>\n",
       "  </thead>\n",
       "  <tbody>\n",
       "    <tr>\n",
       "      <th>0</th>\n",
       "      <td>Com novas categorias, prêmio Desafio Pfizer ab...</td>\n",
       "      <td>0</td>\n",
       "    </tr>\n",
       "    <tr>\n",
       "      <th>1</th>\n",
       "      <td>Chatbot fortalece presença digital do Hapvida ...</td>\n",
       "      <td>0</td>\n",
       "    </tr>\n",
       "    <tr>\n",
       "      <th>2</th>\n",
       "      <td>Aplicativo Hello Mom permite o compartilhament...</td>\n",
       "      <td>0</td>\n",
       "    </tr>\n",
       "    <tr>\n",
       "      <th>3</th>\n",
       "      <td>SulAmérica Saúde acumula mais de 2M de usuário...</td>\n",
       "      <td>0</td>\n",
       "    </tr>\n",
       "    <tr>\n",
       "      <th>4</th>\n",
       "      <td>Automação do atendimento: qual deve ser o pont...</td>\n",
       "      <td>0</td>\n",
       "    </tr>\n",
       "  </tbody>\n",
       "</table>\n",
       "</div>"
      ],
      "text/plain": [
       "                                             noticia  target\n",
       "0  Com novas categorias, prêmio Desafio Pfizer ab...       0\n",
       "1  Chatbot fortalece presença digital do Hapvida ...       0\n",
       "2  Aplicativo Hello Mom permite o compartilhament...       0\n",
       "3  SulAmérica Saúde acumula mais de 2M de usuário...       0\n",
       "4  Automação do atendimento: qual deve ser o pont...       0"
      ]
     },
     "execution_count": 11,
     "metadata": {},
     "output_type": "execute_result"
    }
   ],
   "source": [
    "df3 = pd.read_csv('sb_ds.csv', sep=';')\n",
    "df3.head()"
   ]
  },
  {
   "cell_type": "code",
   "execution_count": 12,
   "metadata": {},
   "outputs": [
    {
     "data": {
      "text/plain": [
       "(633, 2)"
      ]
     },
     "execution_count": 12,
     "metadata": {},
     "output_type": "execute_result"
    }
   ],
   "source": [
    "df3.shape"
   ]
  },
  {
   "cell_type": "code",
   "execution_count": null,
   "metadata": {},
   "outputs": [],
   "source": []
  },
  {
   "cell_type": "code",
   "execution_count": 13,
   "metadata": {},
   "outputs": [],
   "source": [
    "df4 = pd.read_csv('NewsIF.csv')"
   ]
  },
  {
   "cell_type": "code",
   "execution_count": 14,
   "metadata": {},
   "outputs": [
    {
     "data": {
      "text/html": [
       "<div>\n",
       "<style scoped>\n",
       "    .dataframe tbody tr th:only-of-type {\n",
       "        vertical-align: middle;\n",
       "    }\n",
       "\n",
       "    .dataframe tbody tr th {\n",
       "        vertical-align: top;\n",
       "    }\n",
       "\n",
       "    .dataframe thead th {\n",
       "        text-align: right;\n",
       "    }\n",
       "</style>\n",
       "<table border=\"1\" class=\"dataframe\">\n",
       "  <thead>\n",
       "    <tr style=\"text-align: right;\">\n",
       "      <th></th>\n",
       "      <th>data</th>\n",
       "      <th>titulo</th>\n",
       "      <th>conteudo</th>\n",
       "    </tr>\n",
       "  </thead>\n",
       "  <tbody>\n",
       "    <tr>\n",
       "      <th>0</th>\n",
       "      <td>2018-11-19</td>\n",
       "      <td>Oportunidades</td>\n",
       "      <td>\\n\\n\\n\\n\\t \\n\\n\\n\\n\\n\\n\\n</td>\n",
       "    </tr>\n",
       "    <tr>\n",
       "      <th>1</th>\n",
       "      <td>2018-11-19</td>\n",
       "      <td>Servidores e alunos do NEABI - Núcleo de Estud...</td>\n",
       "      <td>\\n\\n\\tServidores e alunos do NEABI - Núcleo de...</td>\n",
       "    </tr>\n",
       "    <tr>\n",
       "      <th>2</th>\n",
       "      <td>2018-11-19</td>\n",
       "      <td>O último módulo - Módulo 4 - da \"Cartilha IFNu...</td>\n",
       "      <td>\\n\\n\\tA “cartilha IF Nutri - Promoção da saúde...</td>\n",
       "    </tr>\n",
       "    <tr>\n",
       "      <th>3</th>\n",
       "      <td>2018-11-19</td>\n",
       "      <td>Campus Barbacena divulga listagem de aplicador...</td>\n",
       "      <td>\\n\\n\\tCampus Barbacena divulgou a listagem de ...</td>\n",
       "    </tr>\n",
       "    <tr>\n",
       "      <th>4</th>\n",
       "      <td>2018-11-19</td>\n",
       "      <td>Campus Barbacena divulga as chapas inscritas p...</td>\n",
       "      <td>\\n\\n\\tA Comissão Eleitoral, no uso de suas atr...</td>\n",
       "    </tr>\n",
       "  </tbody>\n",
       "</table>\n",
       "</div>"
      ],
      "text/plain": [
       "         data                                             titulo  \\\n",
       "0  2018-11-19                                      Oportunidades   \n",
       "1  2018-11-19  Servidores e alunos do NEABI - Núcleo de Estud...   \n",
       "2  2018-11-19  O último módulo - Módulo 4 - da \"Cartilha IFNu...   \n",
       "3  2018-11-19  Campus Barbacena divulga listagem de aplicador...   \n",
       "4  2018-11-19  Campus Barbacena divulga as chapas inscritas p...   \n",
       "\n",
       "                                            conteudo  \n",
       "0                          \\n\\n\\n\\n\\t \\n\\n\\n\\n\\n\\n\\n  \n",
       "1  \\n\\n\\tServidores e alunos do NEABI - Núcleo de...  \n",
       "2  \\n\\n\\tA “cartilha IF Nutri - Promoção da saúde...  \n",
       "3  \\n\\n\\tCampus Barbacena divulgou a listagem de ...  \n",
       "4  \\n\\n\\tA Comissão Eleitoral, no uso de suas atr...  "
      ]
     },
     "execution_count": 14,
     "metadata": {},
     "output_type": "execute_result"
    }
   ],
   "source": [
    "df4.head()"
   ]
  },
  {
   "cell_type": "code",
   "execution_count": 15,
   "metadata": {},
   "outputs": [
    {
     "data": {
      "text/plain": [
       "(4922, 3)"
      ]
     },
     "execution_count": 15,
     "metadata": {},
     "output_type": "execute_result"
    }
   ],
   "source": [
    "df4.shape"
   ]
  },
  {
   "cell_type": "code",
   "execution_count": 16,
   "metadata": {},
   "outputs": [],
   "source": [
    "df4['conteudo'] = df4.apply(lambda row: row['titulo'] +'\\n\\n'+ row['conteudo'], axis=1)"
   ]
  },
  {
   "cell_type": "code",
   "execution_count": 17,
   "metadata": {},
   "outputs": [],
   "source": [
    "df4 = df4[['conteudo']].iloc[1:]"
   ]
  },
  {
   "cell_type": "code",
   "execution_count": 18,
   "metadata": {},
   "outputs": [],
   "source": [
    "df4['target'] = 0"
   ]
  },
  {
   "cell_type": "code",
   "execution_count": 19,
   "metadata": {},
   "outputs": [],
   "source": [
    "df4.columns = ['noticia', 'target']"
   ]
  },
  {
   "cell_type": "code",
   "execution_count": 20,
   "metadata": {},
   "outputs": [
    {
     "data": {
      "text/html": [
       "<div>\n",
       "<style scoped>\n",
       "    .dataframe tbody tr th:only-of-type {\n",
       "        vertical-align: middle;\n",
       "    }\n",
       "\n",
       "    .dataframe tbody tr th {\n",
       "        vertical-align: top;\n",
       "    }\n",
       "\n",
       "    .dataframe thead th {\n",
       "        text-align: right;\n",
       "    }\n",
       "</style>\n",
       "<table border=\"1\" class=\"dataframe\">\n",
       "  <thead>\n",
       "    <tr style=\"text-align: right;\">\n",
       "      <th></th>\n",
       "      <th>noticia</th>\n",
       "      <th>target</th>\n",
       "    </tr>\n",
       "  </thead>\n",
       "  <tbody>\n",
       "    <tr>\n",
       "      <th>1</th>\n",
       "      <td>Servidores e alunos do NEABI - Núcleo de Estud...</td>\n",
       "      <td>0</td>\n",
       "    </tr>\n",
       "    <tr>\n",
       "      <th>2</th>\n",
       "      <td>O último módulo - Módulo 4 - da \"Cartilha IFNu...</td>\n",
       "      <td>0</td>\n",
       "    </tr>\n",
       "    <tr>\n",
       "      <th>3</th>\n",
       "      <td>Campus Barbacena divulga listagem de aplicador...</td>\n",
       "      <td>0</td>\n",
       "    </tr>\n",
       "    <tr>\n",
       "      <th>4</th>\n",
       "      <td>Campus Barbacena divulga as chapas inscritas p...</td>\n",
       "      <td>0</td>\n",
       "    </tr>\n",
       "    <tr>\n",
       "      <th>5</th>\n",
       "      <td>Divulgado o Edital de Convocação para eleição ...</td>\n",
       "      <td>0</td>\n",
       "    </tr>\n",
       "  </tbody>\n",
       "</table>\n",
       "</div>"
      ],
      "text/plain": [
       "                                             noticia  target\n",
       "1  Servidores e alunos do NEABI - Núcleo de Estud...       0\n",
       "2  O último módulo - Módulo 4 - da \"Cartilha IFNu...       0\n",
       "3  Campus Barbacena divulga listagem de aplicador...       0\n",
       "4  Campus Barbacena divulga as chapas inscritas p...       0\n",
       "5  Divulgado o Edital de Convocação para eleição ...       0"
      ]
     },
     "execution_count": 20,
     "metadata": {},
     "output_type": "execute_result"
    }
   ],
   "source": [
    "df4.head()"
   ]
  },
  {
   "cell_type": "code",
   "execution_count": null,
   "metadata": {},
   "outputs": [],
   "source": []
  },
  {
   "cell_type": "code",
   "execution_count": 21,
   "metadata": {},
   "outputs": [
    {
     "data": {
      "text/html": [
       "<div>\n",
       "<style scoped>\n",
       "    .dataframe tbody tr th:only-of-type {\n",
       "        vertical-align: middle;\n",
       "    }\n",
       "\n",
       "    .dataframe tbody tr th {\n",
       "        vertical-align: top;\n",
       "    }\n",
       "\n",
       "    .dataframe thead th {\n",
       "        text-align: right;\n",
       "    }\n",
       "</style>\n",
       "<table border=\"1\" class=\"dataframe\">\n",
       "  <thead>\n",
       "    <tr style=\"text-align: right;\">\n",
       "      <th></th>\n",
       "      <th>data</th>\n",
       "      <th>titulo</th>\n",
       "      <th>conteudo</th>\n",
       "    </tr>\n",
       "  </thead>\n",
       "  <tbody>\n",
       "    <tr>\n",
       "      <th>0</th>\n",
       "      <td>2017-11-22 12:50:36</td>\n",
       "      <td>Mais dois Forks devem acontecer na blockchain ...</td>\n",
       "      <td>Depois de 01 de agosto de 2017, podemos dizer ...</td>\n",
       "    </tr>\n",
       "    <tr>\n",
       "      <th>1</th>\n",
       "      <td>2017-11-22 14:20:18</td>\n",
       "      <td>Diretores financeiros divergem sobre o Bitcoin...</td>\n",
       "      <td>De acordo com uma pesquisa realizada pela CNBC...</td>\n",
       "    </tr>\n",
       "    <tr>\n",
       "      <th>2</th>\n",
       "      <td>2017-11-22 15:45:40</td>\n",
       "      <td>Bitfinex adiciona o par BTC/EUR e pode estar m...</td>\n",
       "      <td>A Bitfinex, a maior exchange do mundo por volu...</td>\n",
       "    </tr>\n",
       "    <tr>\n",
       "      <th>3</th>\n",
       "      <td>2017-11-22 17:30:12</td>\n",
       "      <td>Vila japonesa planeja usar ICOs para captar re...</td>\n",
       "      <td>Tudo como o país com a regulamentação mais fav...</td>\n",
       "    </tr>\n",
       "    <tr>\n",
       "      <th>4</th>\n",
       "      <td>2017-11-22 18:01:58</td>\n",
       "      <td>KYC legal : dois conselheiros Davis III e Sana...</td>\n",
       "      <td>A equipe da KYC LEGAL, uma plataforma de verif...</td>\n",
       "    </tr>\n",
       "  </tbody>\n",
       "</table>\n",
       "</div>"
      ],
      "text/plain": [
       "                  data                                             titulo  \\\n",
       "0  2017-11-22 12:50:36  Mais dois Forks devem acontecer na blockchain ...   \n",
       "1  2017-11-22 14:20:18  Diretores financeiros divergem sobre o Bitcoin...   \n",
       "2  2017-11-22 15:45:40  Bitfinex adiciona o par BTC/EUR e pode estar m...   \n",
       "3  2017-11-22 17:30:12  Vila japonesa planeja usar ICOs para captar re...   \n",
       "4  2017-11-22 18:01:58  KYC legal : dois conselheiros Davis III e Sana...   \n",
       "\n",
       "                                            conteudo  \n",
       "0  Depois de 01 de agosto de 2017, podemos dizer ...  \n",
       "1  De acordo com uma pesquisa realizada pela CNBC...  \n",
       "2  A Bitfinex, a maior exchange do mundo por volu...  \n",
       "3  Tudo como o país com a regulamentação mais fav...  \n",
       "4  A equipe da KYC LEGAL, uma plataforma de verif...  "
      ]
     },
     "execution_count": 21,
     "metadata": {},
     "output_type": "execute_result"
    }
   ],
   "source": [
    "df5 = pd.read_csv('NewsCM.csv')\n",
    "df5.head()"
   ]
  },
  {
   "cell_type": "code",
   "execution_count": 22,
   "metadata": {},
   "outputs": [
    {
     "data": {
      "text/plain": [
       "(3798, 3)"
      ]
     },
     "execution_count": 22,
     "metadata": {},
     "output_type": "execute_result"
    }
   ],
   "source": [
    "df5.shape"
   ]
  },
  {
   "cell_type": "code",
   "execution_count": 23,
   "metadata": {},
   "outputs": [],
   "source": [
    "df5['noticia'] = df5.apply(lambda row: row['titulo'] +'\\n\\n'+ row['conteudo'], axis=1)"
   ]
  },
  {
   "cell_type": "code",
   "execution_count": 24,
   "metadata": {},
   "outputs": [],
   "source": [
    "df5['target'] = 0\n",
    "df5 =df5[['noticia', 'target']]"
   ]
  },
  {
   "cell_type": "code",
   "execution_count": 25,
   "metadata": {},
   "outputs": [
    {
     "data": {
      "text/html": [
       "<div>\n",
       "<style scoped>\n",
       "    .dataframe tbody tr th:only-of-type {\n",
       "        vertical-align: middle;\n",
       "    }\n",
       "\n",
       "    .dataframe tbody tr th {\n",
       "        vertical-align: top;\n",
       "    }\n",
       "\n",
       "    .dataframe thead th {\n",
       "        text-align: right;\n",
       "    }\n",
       "</style>\n",
       "<table border=\"1\" class=\"dataframe\">\n",
       "  <thead>\n",
       "    <tr style=\"text-align: right;\">\n",
       "      <th></th>\n",
       "      <th>noticia</th>\n",
       "      <th>target</th>\n",
       "    </tr>\n",
       "  </thead>\n",
       "  <tbody>\n",
       "    <tr>\n",
       "      <th>0</th>\n",
       "      <td>Mais dois Forks devem acontecer na blockchain ...</td>\n",
       "      <td>0</td>\n",
       "    </tr>\n",
       "    <tr>\n",
       "      <th>1</th>\n",
       "      <td>Diretores financeiros divergem sobre o Bitcoin...</td>\n",
       "      <td>0</td>\n",
       "    </tr>\n",
       "    <tr>\n",
       "      <th>2</th>\n",
       "      <td>Bitfinex adiciona o par BTC/EUR e pode estar m...</td>\n",
       "      <td>0</td>\n",
       "    </tr>\n",
       "    <tr>\n",
       "      <th>3</th>\n",
       "      <td>Vila japonesa planeja usar ICOs para captar re...</td>\n",
       "      <td>0</td>\n",
       "    </tr>\n",
       "    <tr>\n",
       "      <th>4</th>\n",
       "      <td>KYC legal : dois conselheiros Davis III e Sana...</td>\n",
       "      <td>0</td>\n",
       "    </tr>\n",
       "  </tbody>\n",
       "</table>\n",
       "</div>"
      ],
      "text/plain": [
       "                                             noticia  target\n",
       "0  Mais dois Forks devem acontecer na blockchain ...       0\n",
       "1  Diretores financeiros divergem sobre o Bitcoin...       0\n",
       "2  Bitfinex adiciona o par BTC/EUR e pode estar m...       0\n",
       "3  Vila japonesa planeja usar ICOs para captar re...       0\n",
       "4  KYC legal : dois conselheiros Davis III e Sana...       0"
      ]
     },
     "execution_count": 25,
     "metadata": {},
     "output_type": "execute_result"
    }
   ],
   "source": [
    "df5.head()"
   ]
  },
  {
   "cell_type": "code",
   "execution_count": null,
   "metadata": {},
   "outputs": [],
   "source": []
  },
  {
   "cell_type": "code",
   "execution_count": null,
   "metadata": {},
   "outputs": [],
   "source": []
  },
  {
   "cell_type": "code",
   "execution_count": 26,
   "metadata": {},
   "outputs": [],
   "source": [
    "df_noticias = pd.DataFrame()"
   ]
  },
  {
   "cell_type": "code",
   "execution_count": 27,
   "metadata": {},
   "outputs": [],
   "source": [
    "df_noticias = df_noticias.append([df1, df2, df3, df4, df5], ignore_index=True, sort=False)"
   ]
  },
  {
   "cell_type": "code",
   "execution_count": 29,
   "metadata": {},
   "outputs": [
    {
     "data": {
      "text/plain": [
       "(16314, 2)"
      ]
     },
     "execution_count": 29,
     "metadata": {},
     "output_type": "execute_result"
    }
   ],
   "source": [
    "df_noticias.shape"
   ]
  },
  {
   "cell_type": "code",
   "execution_count": 30,
   "metadata": {},
   "outputs": [
    {
     "data": {
      "text/html": [
       "<div>\n",
       "<style scoped>\n",
       "    .dataframe tbody tr th:only-of-type {\n",
       "        vertical-align: middle;\n",
       "    }\n",
       "\n",
       "    .dataframe tbody tr th {\n",
       "        vertical-align: top;\n",
       "    }\n",
       "\n",
       "    .dataframe thead th {\n",
       "        text-align: right;\n",
       "    }\n",
       "</style>\n",
       "<table border=\"1\" class=\"dataframe\">\n",
       "  <thead>\n",
       "    <tr style=\"text-align: right;\">\n",
       "      <th></th>\n",
       "      <th>noticia</th>\n",
       "      <th>target</th>\n",
       "    </tr>\n",
       "  </thead>\n",
       "  <tbody>\n",
       "    <tr>\n",
       "      <th>0</th>\n",
       "      <td>Carona com Deyverson: atacante do Palmeiras ab...</td>\n",
       "      <td>1</td>\n",
       "    </tr>\n",
       "    <tr>\n",
       "      <th>1</th>\n",
       "      <td>River x Boca: final da Libertadores em Madri t...</td>\n",
       "      <td>1</td>\n",
       "    </tr>\n",
       "    <tr>\n",
       "      <th>2</th>\n",
       "      <td>E-Brasileirão 2018\\n\\nAssista ao vivo à fase f...</td>\n",
       "      <td>1</td>\n",
       "    </tr>\n",
       "    <tr>\n",
       "      <th>3</th>\n",
       "      <td>Inauguração de estátua de Renato Gaúcho no Grê...</td>\n",
       "      <td>1</td>\n",
       "    </tr>\n",
       "    <tr>\n",
       "      <th>4</th>\n",
       "      <td>Zagallo visita novo CT do Flamengo antes de in...</td>\n",
       "      <td>1</td>\n",
       "    </tr>\n",
       "  </tbody>\n",
       "</table>\n",
       "</div>"
      ],
      "text/plain": [
       "                                             noticia  target\n",
       "0  Carona com Deyverson: atacante do Palmeiras ab...       1\n",
       "1  River x Boca: final da Libertadores em Madri t...       1\n",
       "2  E-Brasileirão 2018\\n\\nAssista ao vivo à fase f...       1\n",
       "3  Inauguração de estátua de Renato Gaúcho no Grê...       1\n",
       "4  Zagallo visita novo CT do Flamengo antes de in...       1"
      ]
     },
     "execution_count": 30,
     "metadata": {},
     "output_type": "execute_result"
    }
   ],
   "source": [
    "df_noticias.head()"
   ]
  },
  {
   "cell_type": "code",
   "execution_count": 249,
   "metadata": {},
   "outputs": [],
   "source": [
    "# embaralhar e selecionar o maximo de noticias\n",
    "\n",
    "df, df2, target, target2 = train_test_split(\n",
    "    df_noticias.drop(['target'], axis=1), \n",
    "    df_noticias['target'], \n",
    "    test_size=12000,\n",
    "    random_state=25\n",
    ")\n",
    "\n",
    "df['target'] = target\n",
    "df2['target'] = target2\n",
    "df_noticias = pd.DataFrame().append([df, df2], ignore_index=True, sort=False )\n",
    "\n",
    "df_noticias = pd.DataFrame().append([\n",
    "        df_noticias[df_noticias.target == 0].iloc[:2000],\n",
    "        df_noticias[df_noticias.target == 1].iloc[:2000] ],\n",
    "        ignore_index=True,\n",
    "        \n",
    ")"
   ]
  },
  {
   "cell_type": "code",
   "execution_count": 250,
   "metadata": {},
   "outputs": [
    {
     "data": {
      "text/html": [
       "<div>\n",
       "<style scoped>\n",
       "    .dataframe tbody tr th:only-of-type {\n",
       "        vertical-align: middle;\n",
       "    }\n",
       "\n",
       "    .dataframe tbody tr th {\n",
       "        vertical-align: top;\n",
       "    }\n",
       "\n",
       "    .dataframe thead th {\n",
       "        text-align: right;\n",
       "    }\n",
       "</style>\n",
       "<table border=\"1\" class=\"dataframe\">\n",
       "  <thead>\n",
       "    <tr style=\"text-align: right;\">\n",
       "      <th></th>\n",
       "      <th>noticia</th>\n",
       "      <th>target</th>\n",
       "    </tr>\n",
       "  </thead>\n",
       "  <tbody>\n",
       "    <tr>\n",
       "      <th>3995</th>\n",
       "      <td>Após encerrar carreira na F1, Alonso confirma ...</td>\n",
       "      <td>1</td>\n",
       "    </tr>\n",
       "    <tr>\n",
       "      <th>3996</th>\n",
       "      <td>Encaradas tensas e provocações marcam a pesage...</td>\n",
       "      <td>1</td>\n",
       "    </tr>\n",
       "    <tr>\n",
       "      <th>3997</th>\n",
       "      <td>Botafogo x Paraná: tudo o que você precisa sab...</td>\n",
       "      <td>1</td>\n",
       "    </tr>\n",
       "    <tr>\n",
       "      <th>3998</th>\n",
       "      <td>Fred joga os primeiros 90 minutos no Cruzeiro ...</td>\n",
       "      <td>1</td>\n",
       "    </tr>\n",
       "    <tr>\n",
       "      <th>3999</th>\n",
       "      <td>Guilherme Santos pega um jogo de suspensão no ...</td>\n",
       "      <td>1</td>\n",
       "    </tr>\n",
       "  </tbody>\n",
       "</table>\n",
       "</div>"
      ],
      "text/plain": [
       "                                                noticia  target\n",
       "3995  Após encerrar carreira na F1, Alonso confirma ...       1\n",
       "3996  Encaradas tensas e provocações marcam a pesage...       1\n",
       "3997  Botafogo x Paraná: tudo o que você precisa sab...       1\n",
       "3998  Fred joga os primeiros 90 minutos no Cruzeiro ...       1\n",
       "3999  Guilherme Santos pega um jogo de suspensão no ...       1"
      ]
     },
     "execution_count": 250,
     "metadata": {},
     "output_type": "execute_result"
    }
   ],
   "source": [
    "df_noticias.tail()"
   ]
  },
  {
   "cell_type": "code",
   "execution_count": 31,
   "metadata": {},
   "outputs": [
    {
     "data": {
      "text/plain": [
       "0    11306\n",
       "1     5008\n",
       "Name: target, dtype: int64"
      ]
     },
     "execution_count": 31,
     "metadata": {},
     "output_type": "execute_result"
    }
   ],
   "source": [
    "df_noticias.target.value_counts()"
   ]
  },
  {
   "cell_type": "code",
   "execution_count": 32,
   "metadata": {},
   "outputs": [],
   "source": [
    "df_noticias.to_csv('noticias_all.csv', index=False)"
   ]
  },
  {
   "cell_type": "code",
   "execution_count": null,
   "metadata": {},
   "outputs": [],
   "source": []
  }
 ],
 "metadata": {
  "kernelspec": {
   "display_name": "Python 3",
   "language": "python",
   "name": "python3"
  },
  "language_info": {
   "codemirror_mode": {
    "name": "ipython",
    "version": 3
   },
   "file_extension": ".py",
   "mimetype": "text/x-python",
   "name": "python",
   "nbconvert_exporter": "python",
   "pygments_lexer": "ipython3",
   "version": "3.7.1"
  }
 },
 "nbformat": 4,
 "nbformat_minor": 2
}
