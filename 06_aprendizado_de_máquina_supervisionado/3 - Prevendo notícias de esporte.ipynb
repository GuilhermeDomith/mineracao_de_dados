{
 "cells": [
  {
   "cell_type": "code",
   "execution_count": 60,
   "metadata": {},
   "outputs": [],
   "source": [
    "import pickle, json, nltk, re\n",
    "import pandas as pd\n",
    "from string import ascii_lowercase, punctuation\n",
    "from unicodedata import normalize\n"
   ]
  },
  {
   "cell_type": "code",
   "execution_count": 178,
   "metadata": {},
   "outputs": [],
   "source": [
    "with open('app/data/vectorizer', 'rb') as file:\n",
    "    vectorizer = pickle.load(file)"
   ]
  },
  {
   "cell_type": "code",
   "execution_count": 179,
   "metadata": {},
   "outputs": [],
   "source": [
    "with open('app/data/model', 'rb') as file:\n",
    "    model_mpl = pickle.load(file)"
   ]
  },
  {
   "cell_type": "code",
   "execution_count": 180,
   "metadata": {},
   "outputs": [],
   "source": [
    "with open('app/data/stopwords.json', 'r') as file:\n",
    "    stopwords = json.load(file)"
   ]
  },
  {
   "cell_type": "code",
   "execution_count": 8,
   "metadata": {},
   "outputs": [],
   "source": [
    "df_words = pd.read_csv('app/data/words.csv')"
   ]
  },
  {
   "cell_type": "code",
   "execution_count": 189,
   "metadata": {},
   "outputs": [],
   "source": [
    "\n",
    "def remover_acentuacao(texto):\n",
    "    return normalize('NFKD', texto).encode('ASCII', 'ignore').decode()\n",
    "\n",
    "\n",
    "def processar_texto(texto):\n",
    "    if texto is None or not texto:\n",
    "        return ''\n",
    "\n",
    "    # Trasnformação do texto em minúsculo e remoção de termo\n",
    "    texto = str(texto).lower()\n",
    "\n",
    "    # Removendo acentuação\n",
    "    texto = remover_acentuacao(texto)\n",
    "\n",
    "    # Removendo Pontuação, stopwords, palavras com número e aplicando stemming\n",
    "    texto = ' '.join([c for c in nltk.word_tokenize(texto) \n",
    "                      if (c not in punctuation) \n",
    "                      and (c not in stopwords) \n",
    "                      and not (re.match(r'.*[\\d_].*', c)) \n",
    "                      and len(c) > 2\n",
    "                     ])\n",
    "\n",
    "    return texto\n",
    "\n",
    "\n",
    "\n",
    "def vetorizar_textos(textos):\n",
    "    tfidf_matrix = vectorizer.transform(textos)    \n",
    "    df_words = pd.DataFrame(tfidf_matrix.todense(), columns=vectorizer.get_feature_names())\n",
    "    \n",
    "    return df_words\n",
    "\n",
    "\n",
    "\n",
    "def predict_notices(notices):\n",
    "    \n",
    "    if isinstance(notices, str):\n",
    "        notices = [notices]\n",
    "        \n",
    "    if isinstance(notices, pd.Series):\n",
    "        notices = list(notices)\n",
    "        \n",
    "    df_notices = pd.DataFrame(notices, columns=['n'])\n",
    "    df_notices = df_notices['n'].apply(processar_texto)\n",
    "                              \n",
    "    df_words_not = vetorizar_textos(df_notices)\n",
    "    \n",
    "    predict = model_mpl.predict(df_words_not)\n",
    "    predict_proba = model_mpl.predict_proba(df_words_not)\n",
    "    \n",
    "    return predict, predict_proba, df_words_not\n",
    "\n",
    "def obter_porcentagem(predict_proba):\n",
    "    return [(float('%.3f'%p[0]), float('%.3f'%p[1])) for p in predict_proba]"
   ]
  },
  {
   "cell_type": "code",
   "execution_count": 90,
   "metadata": {},
   "outputs": [],
   "source": [
    "noticias_teste = pd.read_excel('app/data/teste.xlsx')"
   ]
  },
  {
   "cell_type": "code",
   "execution_count": 190,
   "metadata": {},
   "outputs": [],
   "source": [
    "pred, proba, _ = predict_notices(noticias_teste['noticias'])"
   ]
  },
  {
   "cell_type": "code",
   "execution_count": 191,
   "metadata": {},
   "outputs": [
    {
     "data": {
      "text/plain": [
       "(16314, 492)"
      ]
     },
     "execution_count": 191,
     "metadata": {},
     "output_type": "execute_result"
    }
   ],
   "source": [
    "df_words.shape"
   ]
  },
  {
   "cell_type": "code",
   "execution_count": 192,
   "metadata": {},
   "outputs": [
    {
     "data": {
      "text/plain": [
       "[(0.051, 0.949),\n",
       " (0.189, 0.811),\n",
       " (0.955, 0.045),\n",
       " (0.001, 0.999),\n",
       " (0.0, 1.0),\n",
       " (0.0, 1.0)]"
      ]
     },
     "execution_count": 192,
     "metadata": {},
     "output_type": "execute_result"
    }
   ],
   "source": [
    "obter_porcentagem(proba)"
   ]
  },
  {
   "cell_type": "code",
   "execution_count": null,
   "metadata": {},
   "outputs": [],
   "source": []
  },
  {
   "cell_type": "code",
   "execution_count": 90,
   "metadata": {},
   "outputs": [],
   "source": []
  },
  {
   "cell_type": "code",
   "execution_count": 181,
   "metadata": {},
   "outputs": [],
   "source": [
    "pred, proba, _ = predict_notices(noticias_teste['noticias'])"
   ]
  },
  {
   "cell_type": "code",
   "execution_count": 182,
   "metadata": {},
   "outputs": [
    {
     "data": {
      "text/plain": [
       "(6, 33747)"
      ]
     },
     "execution_count": 182,
     "metadata": {},
     "output_type": "execute_result"
    }
   ],
   "source": [
    "_.shape"
   ]
  },
  {
   "cell_type": "code",
   "execution_count": 183,
   "metadata": {},
   "outputs": [
    {
     "data": {
      "text/plain": [
       "array([1, 1, 0, 1, 1, 1], dtype=int64)"
      ]
     },
     "execution_count": 183,
     "metadata": {},
     "output_type": "execute_result"
    }
   ],
   "source": [
    "pred"
   ]
  },
  {
   "cell_type": "code",
   "execution_count": 184,
   "metadata": {},
   "outputs": [
    {
     "data": {
      "text/plain": [
       "[('0.051', '0.949'),\n",
       " ('0.189', '0.811'),\n",
       " ('0.955', '0.045'),\n",
       " ('0.001', '0.999'),\n",
       " ('0.000', '1.000'),\n",
       " ('0.000', '1.000')]"
      ]
     },
     "execution_count": 184,
     "metadata": {},
     "output_type": "execute_result"
    }
   ],
   "source": [
    "obter_porcentagem(proba)"
   ]
  },
  {
   "cell_type": "code",
   "execution_count": null,
   "metadata": {},
   "outputs": [],
   "source": []
  },
  {
   "cell_type": "code",
   "execution_count": null,
   "metadata": {},
   "outputs": [],
   "source": []
  },
  {
   "cell_type": "code",
   "execution_count": null,
   "metadata": {},
   "outputs": [],
   "source": []
  },
  {
   "cell_type": "code",
   "execution_count": null,
   "metadata": {},
   "outputs": [],
   "source": []
  },
  {
   "cell_type": "code",
   "execution_count": null,
   "metadata": {},
   "outputs": [],
   "source": []
  },
  {
   "cell_type": "code",
   "execution_count": null,
   "metadata": {},
   "outputs": [],
   "source": []
  },
  {
   "cell_type": "code",
   "execution_count": null,
   "metadata": {},
   "outputs": [],
   "source": []
  },
  {
   "cell_type": "code",
   "execution_count": 99,
   "metadata": {},
   "outputs": [],
   "source": [
    "df_noticias = pd.read_csv('app/data/noticias_all.csv')"
   ]
  },
  {
   "cell_type": "code",
   "execution_count": 125,
   "metadata": {},
   "outputs": [],
   "source": [
    "pred, proba, _= predict_notices(df_noticias.loc[[1, 2, 1000, 7500, 9500, 10500]]['noticia'])"
   ]
  },
  {
   "cell_type": "code",
   "execution_count": 126,
   "metadata": {},
   "outputs": [
    {
     "data": {
      "text/plain": [
       "array([1, 1, 1, 0, 0, 0], dtype=int64)"
      ]
     },
     "execution_count": 126,
     "metadata": {},
     "output_type": "execute_result"
    }
   ],
   "source": [
    "pred"
   ]
  },
  {
   "cell_type": "code",
   "execution_count": 123,
   "metadata": {},
   "outputs": [
    {
     "data": {
      "text/plain": [
       "0    agentes divisao homicidios policia civil ruas ...\n",
       "1    presidente eleito jair bolsonaro psl veio paul...\n",
       "2    parte carga carnes desviada pms alvos operacao...\n",
       "3    jorge sampaoli treinador argentina copa russia...\n",
       "4    brasil segue fazendo historia neve nesta quint...\n",
       "5    intermedio agora executivo futebol renato sant...\n",
       "Name: n, dtype: object"
      ]
     },
     "execution_count": 123,
     "metadata": {},
     "output_type": "execute_result"
    }
   ],
   "source": [
    "_"
   ]
  },
  {
   "cell_type": "code",
   "execution_count": null,
   "metadata": {},
   "outputs": [],
   "source": []
  }
 ],
 "metadata": {
  "kernelspec": {
   "display_name": "Python 3",
   "language": "python",
   "name": "python3"
  },
  "language_info": {
   "codemirror_mode": {
    "name": "ipython",
    "version": 3
   },
   "file_extension": ".py",
   "mimetype": "text/x-python",
   "name": "python",
   "nbconvert_exporter": "python",
   "pygments_lexer": "ipython3",
   "version": "3.7.1"
  }
 },
 "nbformat": 4,
 "nbformat_minor": 2
}
