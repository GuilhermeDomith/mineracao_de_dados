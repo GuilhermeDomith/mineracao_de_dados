{
 "cells": [
  {
   "cell_type": "code",
   "execution_count": 1,
   "metadata": {},
   "outputs": [],
   "source": [
    "import pandas as pd\n",
    "import numpy as np\n",
    "import requests, nltk, re, json, pickle\n",
    "from string import ascii_lowercase, punctuation\n",
    "from unicodedata import normalize\n",
    "\n",
    "from sklearn.model_selection import train_test_split\n",
    "from sklearn.feature_extraction.text import TfidfVectorizer\n",
    "from sklearn import metrics\n",
    "\n",
    "from sklearn.neural_network import MLPClassifier\n"
   ]
  },
  {
   "cell_type": "code",
   "execution_count": 2,
   "metadata": {},
   "outputs": [
    {
     "data": {
      "text/plain": [
       "(16314, 2)"
      ]
     },
     "execution_count": 2,
     "metadata": {},
     "output_type": "execute_result"
    }
   ],
   "source": [
    "df_noticias = pd.read_csv('noticias_all.csv')\n",
    "df_noticias.shape"
   ]
  },
  {
   "cell_type": "code",
   "execution_count": 3,
   "metadata": {},
   "outputs": [],
   "source": [
    "def remover_acentuacao(texto):\n",
    "    return normalize('NFKD', texto).encode('ASCII', 'ignore').decode()\n",
    "\n",
    "\n",
    "stopwords = requests.get('https://gist.githubusercontent.com/alopes/5358189/raw/2107d809cca6b83ce3d8e04dbd9463283025284f/stopwords.txt').text\n",
    "stopwords = [remover_acentuacao(w) for w in stopwords.split()]\n",
    "stopwords += ['ser', 'pode']\n",
    "\n",
    "with open('app/data/stopwords.json', 'w') as file:\n",
    "    json.dump(stopwords, file)"
   ]
  },
  {
   "cell_type": "code",
   "execution_count": 4,
   "metadata": {},
   "outputs": [],
   "source": [
    "\n",
    "def processar_texto(texto):\n",
    "    if texto is None or not texto:\n",
    "        return ''\n",
    "\n",
    "    # Trasnformação do texto em minúsculo e remoção de termo\n",
    "    texto = str(texto).lower()\n",
    "\n",
    "    # Removendo acentuação\n",
    "    texto = remover_acentuacao(texto)\n",
    "\n",
    "    # Removendo Pontuação, stopwords, palavras com número e aplicando stemming\n",
    "    texto = ' '.join([c for c in nltk.word_tokenize(texto) \n",
    "                      if (c not in punctuation) \n",
    "                      and (c not in stopwords) \n",
    "                      and not (re.match(r'.*[\\d_].*', c)) \n",
    "                      and len(c) > 2\n",
    "                     ])\n",
    "\n",
    "    return texto\n",
    "\n",
    "\n",
    "\n",
    "def vetorizar_texto(textos, vectorizer=None):\n",
    "    \n",
    "    if not vectorizer:\n",
    "        vectorizer = TfidfVectorizer(\n",
    "            min_df=0.0002\n",
    "        )\n",
    "        \n",
    "        vectorizer = vectorizer.fit(textos)\n",
    "    \n",
    "    \n",
    "    tfidf_matrix = vectorizer.transform(textos)    \n",
    "    df_words = pd.DataFrame(tfidf_matrix.todense(), columns=vectorizer.get_feature_names())\n",
    "    \n",
    "    return df_words, vectorizer"
   ]
  },
  {
   "cell_type": "markdown",
   "metadata": {},
   "source": [
    "### Processamento do Texto"
   ]
  },
  {
   "cell_type": "code",
   "execution_count": 5,
   "metadata": {},
   "outputs": [],
   "source": [
    "df_noticias['doc'] = df_noticias['noticia'].apply(processar_texto)"
   ]
  },
  {
   "cell_type": "code",
   "execution_count": 6,
   "metadata": {},
   "outputs": [
    {
     "data": {
      "text/plain": [
       "(16314, 33747)"
      ]
     },
     "execution_count": 6,
     "metadata": {},
     "output_type": "execute_result"
    }
   ],
   "source": [
    "df_words, vectorizer = vetorizar_texto(df_noticias['doc'])\n",
    "df_words.shape"
   ]
  },
  {
   "cell_type": "code",
   "execution_count": null,
   "metadata": {},
   "outputs": [],
   "source": []
  },
  {
   "cell_type": "code",
   "execution_count": 7,
   "metadata": {},
   "outputs": [],
   "source": [
    "model = MLPClassifier(\n",
    "    hidden_layer_sizes=(20, 30), \n",
    "    activation='relu', \n",
    "    solver='adam'\n",
    ")"
   ]
  },
  {
   "cell_type": "code",
   "execution_count": 8,
   "metadata": {},
   "outputs": [
    {
     "data": {
      "text/plain": [
       "MLPClassifier(activation='relu', alpha=0.0001, batch_size='auto', beta_1=0.9,\n",
       "       beta_2=0.999, early_stopping=False, epsilon=1e-08,\n",
       "       hidden_layer_sizes=(20, 30), learning_rate='constant',\n",
       "       learning_rate_init=0.001, max_iter=200, momentum=0.9,\n",
       "       nesterovs_momentum=True, power_t=0.5, random_state=None,\n",
       "       shuffle=True, solver='adam', tol=0.0001, validation_fraction=0.1,\n",
       "       verbose=False, warm_start=False)"
      ]
     },
     "execution_count": 8,
     "metadata": {},
     "output_type": "execute_result"
    }
   ],
   "source": [
    "model.fit(df_words, df_noticias['target'])"
   ]
  },
  {
   "cell_type": "code",
   "execution_count": 9,
   "metadata": {},
   "outputs": [],
   "source": [
    "with open('app/data/vectorizer', 'wb') as file:\n",
    "    pickle.dump(vectorizer, file)"
   ]
  },
  {
   "cell_type": "code",
   "execution_count": 10,
   "metadata": {},
   "outputs": [],
   "source": [
    "with open('app/data/model', 'wb') as file:\n",
    "    pickle.dump(model, file)"
   ]
  },
  {
   "cell_type": "code",
   "execution_count": 65,
   "metadata": {},
   "outputs": [],
   "source": [
    "df_words.to_csv('app/data/words.csv', index=False)"
   ]
  },
  {
   "cell_type": "code",
   "execution_count": null,
   "metadata": {},
   "outputs": [],
   "source": []
  }
 ],
 "metadata": {
  "kernelspec": {
   "display_name": "Python 3",
   "language": "python",
   "name": "python3"
  },
  "language_info": {
   "codemirror_mode": {
    "name": "ipython",
    "version": 3
   },
   "file_extension": ".py",
   "mimetype": "text/x-python",
   "name": "python",
   "nbconvert_exporter": "python",
   "pygments_lexer": "ipython3",
   "version": "3.7.1"
  }
 },
 "nbformat": 4,
 "nbformat_minor": 2
}
