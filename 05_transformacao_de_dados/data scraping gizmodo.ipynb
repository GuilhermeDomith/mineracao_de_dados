{
 "cells": [
  {
   "cell_type": "code",
   "execution_count": 3,
   "metadata": {},
   "outputs": [],
   "source": [
    "import pandas as pd\n",
    "import bs4, requests, re"
   ]
  },
  {
   "cell_type": "code",
   "execution_count": 137,
   "metadata": {},
   "outputs": [],
   "source": [
    "def obter_noticias_gizmodo(pag_inicio=1, pag_fim=2):\n",
    "    df_noticias = pd.DataFrame()\n",
    "    \n",
    "    \n",
    "    for page in range(pag_inicio, pag_fim):\n",
    "        try:\n",
    "\n",
    "            res = requests.get('https://gizmodo.uol.com.br/page/%d/'%page)\n",
    "            soup_noticias = bs4.BeautifulSoup(\n",
    "                                    res.content.decode('utf-8','ignore'), \n",
    "                                    'lxml'\n",
    "                            )\n",
    "\n",
    "            # Obtem os links das noticias da página\n",
    "            noticias = soup_noticias.select('article h3 a')\n",
    "            for link_noticia in noticias:\n",
    "                noticia = obter_noticia(link_noticia)\n",
    "                df_noticias = df_noticias.append(noticia, ignore_index=True)\n",
    "\n",
    "        except Exception as e:\n",
    "            print(e, 'Page: %d'%page)\n",
    "            break\n",
    "            \n",
    "    return df_noticias\n",
    "\n",
    "\n",
    "def obter_noticia(link):\n",
    "    noticia = { 'url': link.attrs['href'] }\n",
    "\n",
    "    res = requests.get(noticia['url'])\n",
    "    soup_noticia = bs4.BeautifulSoup(\n",
    "                        res.content.decode('utf-8','ignore'), \n",
    "                        'lxml'\n",
    "                    )\n",
    "\n",
    "    noticia['titulo'] = soup_noticia.find('h1', itemprop=\"headline\").getText()\n",
    "    noticia['autor'] = soup_noticia.find('a', rel=\"author\").getText()\n",
    "    noticia['publicacao'] = soup_noticia.find('abbr', itemprop=\"datePublished\").attrs['content']\n",
    "    noticia['categoria'] = soup_noticia.find('a', class_=\"postCategory\").getText()\n",
    "\n",
    "    # Obtendo os paragrafos da noticia\n",
    "    paragrafos = soup_noticia.find('div', itemprop=\"articleBody\").select('p')\n",
    "    noticia['texto'] = '\\n\\n'.join([p.getText() for p in paragrafos])\n",
    "    \n",
    "    return noticia\n"
   ]
  },
  {
   "cell_type": "code",
   "execution_count": 166,
   "metadata": {},
   "outputs": [],
   "source": [
    "df = obter_noticias_gizmodo(120, 200)"
   ]
  },
  {
   "cell_type": "code",
   "execution_count": 167,
   "metadata": {},
   "outputs": [
    {
     "data": {
      "text/plain": [
       "(800, 6)"
      ]
     },
     "execution_count": 167,
     "metadata": {},
     "output_type": "execute_result"
    }
   ],
   "source": [
    "df.shape"
   ]
  },
  {
   "cell_type": "code",
   "execution_count": 168,
   "metadata": {},
   "outputs": [
    {
     "data": {
      "text/html": [
       "<div>\n",
       "<style scoped>\n",
       "    .dataframe tbody tr th:only-of-type {\n",
       "        vertical-align: middle;\n",
       "    }\n",
       "\n",
       "    .dataframe tbody tr th {\n",
       "        vertical-align: top;\n",
       "    }\n",
       "\n",
       "    .dataframe thead th {\n",
       "        text-align: right;\n",
       "    }\n",
       "</style>\n",
       "<table border=\"1\" class=\"dataframe\">\n",
       "  <thead>\n",
       "    <tr style=\"text-align: right;\">\n",
       "      <th></th>\n",
       "      <th>autor</th>\n",
       "      <th>categoria</th>\n",
       "      <th>publicacao</th>\n",
       "      <th>texto</th>\n",
       "      <th>titulo</th>\n",
       "      <th>url</th>\n",
       "    </tr>\n",
       "  </thead>\n",
       "  <tbody>\n",
       "    <tr>\n",
       "      <th>0</th>\n",
       "      <td>Noah Berlatsky</td>\n",
       "      <td>cinema</td>\n",
       "      <td>2018-07-04 11:26:06</td>\n",
       "      <td>O primeiro filme inspirado em um personagem da...</td>\n",
       "      <td>O primeiro filme de super-herói tem mais de 10...</td>\n",
       "      <td>https://gizmodo.uol.com.br/judex-primeiro-film...</td>\n",
       "    </tr>\n",
       "    <tr>\n",
       "      <th>1</th>\n",
       "      <td>George Dvorsky</td>\n",
       "      <td>astronomia</td>\n",
       "      <td>2018-07-04 10:34:24</td>\n",
       "      <td>Obrigado, sonda Juno, por esta gloriosa nova i...</td>\n",
       "      <td>A Juno nos trouxe uma bela nova foto do hemisf...</td>\n",
       "      <td>https://gizmodo.uol.com.br/juno-nova-foto-hemi...</td>\n",
       "    </tr>\n",
       "    <tr>\n",
       "      <th>2</th>\n",
       "      <td>Kashmir Hill</td>\n",
       "      <td>smartphone</td>\n",
       "      <td>2018-07-04 10:03:55</td>\n",
       "      <td>Essa é uma teoria da conspiração que não sai d...</td>\n",
       "      <td>Estes acadêmicos testaram por um ano se os cel...</td>\n",
       "      <td>https://gizmodo.uol.com.br/estudo-celular-micr...</td>\n",
       "    </tr>\n",
       "    <tr>\n",
       "      <th>3</th>\n",
       "      <td>George Dvorsky</td>\n",
       "      <td>ciência</td>\n",
       "      <td>2018-07-04 08:38:38</td>\n",
       "      <td>Analisar livros antigos não parece algo partic...</td>\n",
       "      <td>Pesquisadores descobriram livros venenosos na ...</td>\n",
       "      <td>https://gizmodo.uol.com.br/livros-venenosos-bi...</td>\n",
       "    </tr>\n",
       "    <tr>\n",
       "      <th>4</th>\n",
       "      <td>Guilherme Tagiaroli</td>\n",
       "      <td>Leis</td>\n",
       "      <td>2018-07-03 19:04:29</td>\n",
       "      <td>Aparentemente, os políticos entenderam a impor...</td>\n",
       "      <td>PL de proteção de dados passa por comissão e a...</td>\n",
       "      <td>https://gizmodo.uol.com.br/lei-protecao-dados-...</td>\n",
       "    </tr>\n",
       "  </tbody>\n",
       "</table>\n",
       "</div>"
      ],
      "text/plain": [
       "                 autor   categoria           publicacao  \\\n",
       "0       Noah Berlatsky      cinema  2018-07-04 11:26:06   \n",
       "1       George Dvorsky  astronomia  2018-07-04 10:34:24   \n",
       "2         Kashmir Hill  smartphone  2018-07-04 10:03:55   \n",
       "3       George Dvorsky     ciência  2018-07-04 08:38:38   \n",
       "4  Guilherme Tagiaroli        Leis  2018-07-03 19:04:29   \n",
       "\n",
       "                                               texto  \\\n",
       "0  O primeiro filme inspirado em um personagem da...   \n",
       "1  Obrigado, sonda Juno, por esta gloriosa nova i...   \n",
       "2  Essa é uma teoria da conspiração que não sai d...   \n",
       "3  Analisar livros antigos não parece algo partic...   \n",
       "4  Aparentemente, os políticos entenderam a impor...   \n",
       "\n",
       "                                              titulo  \\\n",
       "0  O primeiro filme de super-herói tem mais de 10...   \n",
       "1  A Juno nos trouxe uma bela nova foto do hemisf...   \n",
       "2  Estes acadêmicos testaram por um ano se os cel...   \n",
       "3  Pesquisadores descobriram livros venenosos na ...   \n",
       "4  PL de proteção de dados passa por comissão e a...   \n",
       "\n",
       "                                                 url  \n",
       "0  https://gizmodo.uol.com.br/judex-primeiro-film...  \n",
       "1  https://gizmodo.uol.com.br/juno-nova-foto-hemi...  \n",
       "2  https://gizmodo.uol.com.br/estudo-celular-micr...  \n",
       "3  https://gizmodo.uol.com.br/livros-venenosos-bi...  \n",
       "4  https://gizmodo.uol.com.br/lei-protecao-dados-...  "
      ]
     },
     "execution_count": 168,
     "metadata": {},
     "output_type": "execute_result"
    }
   ],
   "source": [
    "df.head()"
   ]
  },
  {
   "cell_type": "code",
   "execution_count": null,
   "metadata": {},
   "outputs": [],
   "source": []
  },
  {
   "cell_type": "code",
   "execution_count": 169,
   "metadata": {},
   "outputs": [],
   "source": [
    "df.to_csv('noticias_gizmodo_2.csv', index=False)"
   ]
  },
  {
   "cell_type": "code",
   "execution_count": null,
   "metadata": {},
   "outputs": [],
   "source": []
  }
 ],
 "metadata": {
  "kernelspec": {
   "display_name": "Python 3",
   "language": "python",
   "name": "python3"
  },
  "language_info": {
   "codemirror_mode": {
    "name": "ipython",
    "version": 3
   },
   "file_extension": ".py",
   "mimetype": "text/x-python",
   "name": "python",
   "nbconvert_exporter": "python",
   "pygments_lexer": "ipython3",
   "version": "3.6.5"
  }
 },
 "nbformat": 4,
 "nbformat_minor": 2
}
