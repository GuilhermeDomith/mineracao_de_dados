{
 "cells": [
  {
   "cell_type": "code",
   "execution_count": 2,
   "metadata": {},
   "outputs": [],
   "source": [
    "import pandas as pd"
   ]
  },
  {
   "cell_type": "code",
   "execution_count": 3,
   "metadata": {},
   "outputs": [],
   "source": [
    "df = pd.read_csv('data/df_noticias_if.csv')"
   ]
  },
  {
   "cell_type": "code",
   "execution_count": 6,
   "metadata": {},
   "outputs": [
    {
     "data": {
      "text/html": [
       "<div>\n",
       "<style scoped>\n",
       "    .dataframe tbody tr th:only-of-type {\n",
       "        vertical-align: middle;\n",
       "    }\n",
       "\n",
       "    .dataframe tbody tr th {\n",
       "        vertical-align: top;\n",
       "    }\n",
       "\n",
       "    .dataframe thead th {\n",
       "        text-align: right;\n",
       "    }\n",
       "</style>\n",
       "<table border=\"1\" class=\"dataframe\">\n",
       "  <thead>\n",
       "    <tr style=\"text-align: right;\">\n",
       "      <th></th>\n",
       "      <th>data</th>\n",
       "      <th>titulo</th>\n",
       "      <th>conteudo</th>\n",
       "    </tr>\n",
       "  </thead>\n",
       "  <tbody>\n",
       "    <tr>\n",
       "      <th>0</th>\n",
       "      <td>14/09/2017</td>\n",
       "      <td>Campus Barbacena divulga Resultado Provisório ...</td>\n",
       "      <td>\\n\\n\\tO Campus Barbacena divulgou o Resultado ...</td>\n",
       "    </tr>\n",
       "    <tr>\n",
       "      <th>1</th>\n",
       "      <td>14/09/2017</td>\n",
       "      <td>Divulgado o Edital de convocação de assembleia...</td>\n",
       "      <td>\\n\\n\\tDivulgado o Edital de convocação de asse...</td>\n",
       "    </tr>\n",
       "    <tr>\n",
       "      <th>2</th>\n",
       "      <td>14/09/2017</td>\n",
       "      <td>Pesquisador da Bélgica realiza palestra no Cam...</td>\n",
       "      <td>\\n\\n\\tO pesquisador da Bélgica, Luc Vankrunkel...</td>\n",
       "    </tr>\n",
       "    <tr>\n",
       "      <th>3</th>\n",
       "      <td>14/09/2017</td>\n",
       "      <td>Divulgada a homologação das inscrições à candi...</td>\n",
       "      <td>\\n\\n\\tDivulgada a homologação das inscrições à...</td>\n",
       "    </tr>\n",
       "    <tr>\n",
       "      <th>4</th>\n",
       "      <td>14/09/2017</td>\n",
       "      <td>Aprovado Regulamento de Eventos, Cerimonial e ...</td>\n",
       "      <td>\\n\\n\\tO Regulamento, aprovado no dia 05 de set...</td>\n",
       "    </tr>\n",
       "  </tbody>\n",
       "</table>\n",
       "</div>"
      ],
      "text/plain": [
       "         data                                             titulo  \\\n",
       "0  14/09/2017  Campus Barbacena divulga Resultado Provisório ...   \n",
       "1  14/09/2017  Divulgado o Edital de convocação de assembleia...   \n",
       "2  14/09/2017  Pesquisador da Bélgica realiza palestra no Cam...   \n",
       "3  14/09/2017  Divulgada a homologação das inscrições à candi...   \n",
       "4  14/09/2017  Aprovado Regulamento de Eventos, Cerimonial e ...   \n",
       "\n",
       "                                            conteudo  \n",
       "0  \\n\\n\\tO Campus Barbacena divulgou o Resultado ...  \n",
       "1  \\n\\n\\tDivulgado o Edital de convocação de asse...  \n",
       "2  \\n\\n\\tO pesquisador da Bélgica, Luc Vankrunkel...  \n",
       "3  \\n\\n\\tDivulgada a homologação das inscrições à...  \n",
       "4  \\n\\n\\tO Regulamento, aprovado no dia 05 de set...  "
      ]
     },
     "execution_count": 6,
     "metadata": {},
     "output_type": "execute_result"
    }
   ],
   "source": [
    "df.head()"
   ]
  },
  {
   "cell_type": "code",
   "execution_count": 10,
   "metadata": {},
   "outputs": [],
   "source": [
    "df['lower'] = df['conteudo'].apply(lambda x: x.lower())"
   ]
  },
  {
   "cell_type": "code",
   "execution_count": 12,
   "metadata": {},
   "outputs": [
    {
     "data": {
      "text/plain": [
       "0    \\n\\n\\to campus barbacena divulgou o resultado ...\n",
       "1    \\n\\n\\tdivulgado o edital de convocação de asse...\n",
       "2    \\n\\n\\to pesquisador da bélgica, luc vankrunkel...\n",
       "3    \\n\\n\\tdivulgada a homologação das inscrições à...\n",
       "4    \\n\\n\\to regulamento, aprovado no dia 05 de set...\n",
       "Name: lower, dtype: object"
      ]
     },
     "execution_count": 12,
     "metadata": {},
     "output_type": "execute_result"
    }
   ],
   "source": [
    "df['lower'].head()"
   ]
  },
  {
   "cell_type": "code",
   "execution_count": null,
   "metadata": {},
   "outputs": [],
   "source": []
  },
  {
   "cell_type": "code",
   "execution_count": 22,
   "metadata": {},
   "outputs": [
    {
     "data": {
      "text/plain": [
       "'!\"#$%&\\'()*+,-./:;<=>?@[\\\\]^_`{|}~'"
      ]
     },
     "execution_count": 22,
     "metadata": {},
     "output_type": "execute_result"
    }
   ],
   "source": [
    "from string import punctuation\n",
    "punctuation"
   ]
  },
  {
   "cell_type": "code",
   "execution_count": 25,
   "metadata": {},
   "outputs": [
    {
     "data": {
      "text/plain": [
       "'\\n\\n\\tO Campus Barbacena divulgou o Resultado Provisório do VIII Simpósio de Pesquisa e Inovação\\n\\n\\tOs estudantes devem ficar atentos as observações que constam no final do documento\\n\\nLeia o documento\\n'"
      ]
     },
     "execution_count": 25,
     "metadata": {},
     "output_type": "execute_result"
    }
   ],
   "source": [
    "''.join([l for l in df.iloc[0]['conteudo'] if l not in punctuation])"
   ]
  },
  {
   "cell_type": "code",
   "execution_count": null,
   "metadata": {},
   "outputs": [],
   "source": []
  },
  {
   "cell_type": "code",
   "execution_count": 26,
   "metadata": {},
   "outputs": [],
   "source": [
    "import re"
   ]
  },
  {
   "cell_type": "code",
   "execution_count": 32,
   "metadata": {},
   "outputs": [
    {
     "data": {
      "text/plain": [
       "'O Campus Barbacena divulgou o Resultado Provisório do VIII Simpósio de Pesquisa e Inovação.Os estudantes devem ficar atentos as observações que constam no final do documento.Leia o documento'"
      ]
     },
     "execution_count": 32,
     "metadata": {},
     "output_type": "execute_result"
    }
   ],
   "source": [
    "re.sub(r'[\\n\\t]', '', df.iloc[0]['conteudo'])"
   ]
  },
  {
   "cell_type": "code",
   "execution_count": 34,
   "metadata": {},
   "outputs": [
    {
     "name": "stdout",
     "output_type": "stream",
     "text": [
      "['O', 'Campus', 'Barbacena', 'divulgou', 'o', 'Resultado', 'Provisório', 'do', 'VIII', 'Simpósio', 'de', 'Pesquisa', 'e', 'Inovação.', 'Os', 'estudantes', 'devem', 'ficar', 'atentos', 'as', 'observações', 'que', 'constam', 'no', 'final', 'do', 'documento.', 'Leia', 'o', 'documento']\n"
     ]
    }
   ],
   "source": [
    "print(df.iloc[0]['conteudo'].split())"
   ]
  },
  {
   "cell_type": "code",
   "execution_count": null,
   "metadata": {},
   "outputs": [],
   "source": []
  },
  {
   "cell_type": "code",
   "execution_count": 41,
   "metadata": {},
   "outputs": [
    {
     "name": "stdout",
     "output_type": "stream",
     "text": [
      "[nltk_data] Downloading package punkt to /home/aluno/nltk_data...\n",
      "[nltk_data]   Unzipping tokenizers/punkt.zip.\n"
     ]
    },
    {
     "data": {
      "text/plain": [
       "True"
      ]
     },
     "execution_count": 41,
     "metadata": {},
     "output_type": "execute_result"
    }
   ],
   "source": [
    "import nltk\n",
    "nltk.download('punkt')"
   ]
  },
  {
   "cell_type": "code",
   "execution_count": null,
   "metadata": {},
   "outputs": [],
   "source": []
  },
  {
   "cell_type": "code",
   "execution_count": 37,
   "metadata": {},
   "outputs": [],
   "source": [
    "from nltk import word_tokenize"
   ]
  },
  {
   "cell_type": "code",
   "execution_count": 42,
   "metadata": {},
   "outputs": [
    {
     "name": "stdout",
     "output_type": "stream",
     "text": [
      "['O', 'Campus', 'Barbacena', 'divulgou', 'o', 'Resultado', 'Provisório', 'do', 'VIII', 'Simpósio', 'de', 'Pesquisa', 'e', 'Inovação', '.', 'Os', 'estudantes', 'devem', 'ficar', 'atentos', 'as', 'observações', 'que', 'constam', 'no', 'final', 'do', 'documento', '.', 'Leia', 'o', 'documento']\n"
     ]
    }
   ],
   "source": [
    "print(word_tokenize(df.iloc[0]['conteudo']))"
   ]
  },
  {
   "cell_type": "code",
   "execution_count": null,
   "metadata": {},
   "outputs": [],
   "source": []
  },
  {
   "cell_type": "code",
   "execution_count": 43,
   "metadata": {},
   "outputs": [],
   "source": [
    "from unicodedata import normalize"
   ]
  },
  {
   "cell_type": "code",
   "execution_count": 44,
   "metadata": {},
   "outputs": [
    {
     "data": {
      "text/plain": [
       "b'\\n\\n\\tO Campus Barbacena divulgou o Resultado Provisorio do VIII Simposio de Pesquisa e Inovacao.\\n\\n\\tOs estudantes devem ficar atentos as observacoes que constam no final do documento.\\n\\nLeia o documento\\n'"
      ]
     },
     "execution_count": 44,
     "metadata": {},
     "output_type": "execute_result"
    }
   ],
   "source": [
    "normalize('NFKD', df.iloc[0]['conteudo']).encode('ASCII', 'ignore')"
   ]
  },
  {
   "cell_type": "code",
   "execution_count": null,
   "metadata": {},
   "outputs": [],
   "source": []
  },
  {
   "cell_type": "code",
   "execution_count": 45,
   "metadata": {},
   "outputs": [],
   "source": [
    "import nltk"
   ]
  },
  {
   "cell_type": "code",
   "execution_count": 47,
   "metadata": {},
   "outputs": [
    {
     "name": "stdout",
     "output_type": "stream",
     "text": [
      "[nltk_data] Downloading package stopwords to /home/aluno/nltk_data...\n",
      "[nltk_data]   Unzipping corpora/stopwords.zip.\n"
     ]
    },
    {
     "data": {
      "text/plain": [
       "True"
      ]
     },
     "execution_count": 47,
     "metadata": {},
     "output_type": "execute_result"
    }
   ],
   "source": [
    "nltk.download('stopwords')"
   ]
  },
  {
   "cell_type": "code",
   "execution_count": 50,
   "metadata": {},
   "outputs": [
    {
     "name": "stdout",
     "output_type": "stream",
     "text": [
      "[nltk_data] Downloading package rslp to /home/aluno/nltk_data...\n",
      "[nltk_data]   Unzipping stemmers/rslp.zip.\n"
     ]
    },
    {
     "data": {
      "text/plain": [
       "True"
      ]
     },
     "execution_count": 50,
     "metadata": {},
     "output_type": "execute_result"
    }
   ],
   "source": [
    "nltk.download('rslp')"
   ]
  },
  {
   "cell_type": "code",
   "execution_count": 56,
   "metadata": {},
   "outputs": [
    {
     "name": "stdout",
     "output_type": "stream",
     "text": [
      "[nltk_data] Downloading package wordnet to /home/aluno/nltk_data...\n",
      "[nltk_data]   Unzipping corpora/wordnet.zip.\n"
     ]
    },
    {
     "data": {
      "text/plain": [
       "True"
      ]
     },
     "execution_count": 56,
     "metadata": {},
     "output_type": "execute_result"
    }
   ],
   "source": [
    "nltk.download('wordnet')"
   ]
  },
  {
   "cell_type": "code",
   "execution_count": 60,
   "metadata": {},
   "outputs": [
    {
     "name": "stdout",
     "output_type": "stream",
     "text": [
      "[nltk_data] Downloading package averaged_perceptron_tagger to\n",
      "[nltk_data]     /home/aluno/nltk_data...\n",
      "[nltk_data]   Unzipping taggers/averaged_perceptron_tagger.zip.\n"
     ]
    },
    {
     "data": {
      "text/plain": [
       "True"
      ]
     },
     "execution_count": 60,
     "metadata": {},
     "output_type": "execute_result"
    }
   ],
   "source": [
    "nltk.download('averaged_perceptron_tagger')"
   ]
  },
  {
   "cell_type": "code",
   "execution_count": null,
   "metadata": {},
   "outputs": [],
   "source": []
  },
  {
   "cell_type": "code",
   "execution_count": 48,
   "metadata": {},
   "outputs": [],
   "source": [
    "stopwords = nltk.corpus.stopwords.words('portuguese')"
   ]
  },
  {
   "cell_type": "code",
   "execution_count": null,
   "metadata": {},
   "outputs": [],
   "source": []
  },
  {
   "cell_type": "code",
   "execution_count": 51,
   "metadata": {},
   "outputs": [],
   "source": [
    "stemmer = nltk.stem.RSLPStemmer()"
   ]
  },
  {
   "cell_type": "code",
   "execution_count": 52,
   "metadata": {},
   "outputs": [
    {
     "data": {
      "text/plain": [
       "('program', 'program', 'program')"
      ]
     },
     "execution_count": 52,
     "metadata": {},
     "output_type": "execute_result"
    }
   ],
   "source": [
    "stemmer.stem('programar'), stemmer.stem('programava'), stemmer.stem('programaremos')"
   ]
  },
  {
   "cell_type": "code",
   "execution_count": null,
   "metadata": {},
   "outputs": [],
   "source": []
  },
  {
   "cell_type": "code",
   "execution_count": 53,
   "metadata": {},
   "outputs": [],
   "source": [
    "from nltk.stem.wordnet import WordNetLemmatizer"
   ]
  },
  {
   "cell_type": "code",
   "execution_count": 54,
   "metadata": {},
   "outputs": [],
   "source": [
    "lmtzr = WordNetLemmatizer()"
   ]
  },
  {
   "cell_type": "code",
   "execution_count": 58,
   "metadata": {},
   "outputs": [
    {
     "data": {
      "text/plain": [
       "('car', 'box', 'spy')"
      ]
     },
     "execution_count": 58,
     "metadata": {},
     "output_type": "execute_result"
    }
   ],
   "source": [
    "lmtzr.lemmatize('cars'), lmtzr.lemmatize('boxes'), lmtzr.lemmatize('spies')"
   ]
  },
  {
   "cell_type": "code",
   "execution_count": null,
   "metadata": {},
   "outputs": [],
   "source": []
  },
  {
   "cell_type": "code",
   "execution_count": 63,
   "metadata": {},
   "outputs": [
    {
     "data": {
      "text/plain": [
       "[('the', 'DT'),\n",
       " ('book', 'NN'),\n",
       " ('is', 'VBZ'),\n",
       " ('on', 'IN'),\n",
       " ('the', 'DT'),\n",
       " ('table', 'NN')]"
      ]
     },
     "execution_count": 63,
     "metadata": {},
     "output_type": "execute_result"
    }
   ],
   "source": [
    "nltk.pos_tag('the book is on the table'.split())"
   ]
  },
  {
   "cell_type": "code",
   "execution_count": null,
   "metadata": {},
   "outputs": [],
   "source": [
    "    "
   ]
  },
  {
   "cell_type": "code",
   "execution_count": 65,
   "metadata": {},
   "outputs": [],
   "source": [
    "def processa(row):\n",
    "    txt = row['titulo'] + ' ' + row['conteudo']\n",
    "    return ' '.join([t for t in word_tokenize(txt.lower()) if (t not in stopwords) and (t not in punctuation)])\n",
    "\n",
    "df['doc'] = df.apply(processa, axis=1)"
   ]
  },
  {
   "cell_type": "code",
   "execution_count": 66,
   "metadata": {},
   "outputs": [
    {
     "data": {
      "text/plain": [
       "0    campus barbacena divulga resultado provisório ...\n",
       "1    divulgado edital convocação assembleia centro ...\n",
       "2    pesquisador bélgica realiza palestra campus ba...\n",
       "3    divulgada homologação inscrições candidatura c...\n",
       "4    aprovado regulamento eventos cerimonial protoc...\n",
       "Name: doc, dtype: object"
      ]
     },
     "execution_count": 66,
     "metadata": {},
     "output_type": "execute_result"
    }
   ],
   "source": [
    "df['doc'].head()"
   ]
  },
  {
   "cell_type": "code",
   "execution_count": 138,
   "metadata": {},
   "outputs": [
    {
     "data": {
      "text/plain": [
       "'homologação resultados edital nº agosto 2017-inscrições projetos monitoria 2017-processo /2017- homologação resultado final projetos monitoria aprovados resultado final geral seleção candidatos monitoria'"
      ]
     },
     "execution_count": 138,
     "metadata": {},
     "output_type": "execute_result"
    }
   ],
   "source": [
    "re.sub(r'\\d\\w*(\\s|$)', '', df.iloc[12]['doc'])"
   ]
  },
  {
   "cell_type": "code",
   "execution_count": 139,
   "metadata": {},
   "outputs": [],
   "source": [
    "df['doc'] = df['doc'].apply(lambda x: re.sub(r'\\d\\w*(\\s|$)', '', x))"
   ]
  },
  {
   "cell_type": "code",
   "execution_count": 140,
   "metadata": {},
   "outputs": [
    {
     "data": {
      "text/plain": [
       "<1000x10633 sparse matrix of type '<class 'numpy.float64'>'\n",
       "\twith 64348 stored elements in Compressed Sparse Row format>"
      ]
     },
     "execution_count": 140,
     "metadata": {},
     "output_type": "execute_result"
    }
   ],
   "source": [
    "from sklearn.feature_extraction.text import TfidfVectorizer\n",
    "\n",
    "vectorizer = TfidfVectorizer(\n",
    "    analyzer='word',\n",
    "    ngram_range=(1, 1),\n",
    "    max_features=None,\n",
    "    binary=False,\n",
    "    use_idf=True\n",
    ")\n",
    "tfidf_matrix = vectorizer.fit_transform(df['doc'])\n",
    "\n",
    "tfidf_matrix"
   ]
  },
  {
   "cell_type": "code",
   "execution_count": 141,
   "metadata": {},
   "outputs": [
    {
     "name": "stdout",
     "output_type": "stream",
     "text": [
      "['00', '000', '000957', '001', '002', '002084', '002086', '003', '009', '01', '018', '02', '020', '021', '022', '03', '031', '032', '036', '039', '04', '05', '050617', '052', '05_final', '06', '07', '08', '09', '10', '10024', '11', '110', '12', '128', '13', '13h', '14', '143', '145', '146', '14qualidadedevidaedoambiente', '15', '16', '16h', '17', '172', '175', '179', '18', '185', '189', '19', '1909', '191', '1910', '192', '1927an4vppuglifzxylp9u4ogs', '1932', '1947', '1983', '1993', '1995', '19jifsghun', '1_2lgnzzc9ekuu4g5xtn66opwkev5txvea4ivqmh6ycy', '1a', '1azedtlmijk2u', '1bahgg', '1d4', '1ed', '1erhcwwkmynbmj0yqejhidawaso2u4u', '1ezktrujmohi', '1faipqlscdlziuyyujafh', '1faipqlscemesh6sdpexovfoqhkvcuckvqnvmnwlchtjgheebxodxohw', '1faipqlscsciawacjjishc53hd', '1faipqlscsve_rzttqs9cnvefg', '1faipqlse5t97v1xbrt2q9xqprrf9gqux7hlo79v6kqkyrlksbryzqtg', '1faipqlsercvcmvhzzn_v0w_8umgdkfjr_qswcmoxydghams29b6ihgq', '1fxznjaceqieo_r', '1ghsm_mpm', '1gl8uiwzafwhknzdz1callj6x8ijdzyk2j2tff', '1jix52tclvq1otxmuixdu4j', '1kep0jzxha', '1knopyuio5ygjd66djcg66muvy9qr1yjfglgtq81n', '1lvxo630ifj3z9w297lp', '1m56plyqtteby0d6o2vg8', '1n5asz75f', '1pmfruguxu9prz14wtlw0ojf', '1qqdy4y0hs', '1se6tn4', '1thwzmkvlplapg_o33q6tfa5t2xawp', '1uv0rqkmb0', '1w8gv6d', '1wbbozl2nijaaxl1ikbgrh', '1wl6aacjym', '1wmjkzqyo3bv400oaa9v7p', '1wsbarxhliytjvem3', '1xeise_bpopgopp962den2we', '1xkouwpnxwf9lrcconxrjbji2_tk5r91', '1y8yjpndlinufuacrdulmcpgh', '1zopluys4bqy3m_urr1qw2', '20', '200', '2005', '2009', '2010', '2011', '2013', '2014', '2015', '2016', '2017', '20172018', '2018', '2019', '2024', '20psico_0', '21', '211', '22', '23', '23355', '24', '249', '25', '26', '26_9_carta_de_vitoria_reditec', '27', '279', '28', '29', '2resultado_oficial_apuracao', '2º', '30', '3051', '31', '310', '32', '3257', '33', '3331', '3393', '34', '352', '36205', '369', '3693', '3966', '40', '400', '41', '426', '447', '50', '513', '52', '549', '58', '60', '70', '727', '814', '8615', '8625', '867', '889', '892', '8h', '8kllx25yydfder82_j4yuzmi59bag', '9001', '9004', '9410', '98421', '__________________________________________________________________________________________________________________________________________', '_aproveitamento_de_estudos_1', '_avaliacao_nutricional_final_02', '_comunicado_divulgacao_do_cronograma', '_comunicado_divulgacao_dos_candidatos_inscritos', '_criterios_de_avaliacao_1', '_edital', '_etiqueta_a_mesa_final_02', '_ficha_de_inscricao_dos_estudantes_1', '_ficha_tecnica_final_02', '_finalok', '_if_sudeste_mg_', '_jose_alexandrino_filho', '_linhas_de_extensao_1_1', '_luiz_carlos__gomes_junior_gestao_2017__2021', '_modelo_de_carta_de_anuencia_1', '_modelo_de_plano_de_trabalho_individual_do_bolsista_versao_2_1', '_modelo_de_relato_de_experiencia_2_1', '_modelo_de_relatorio_final_1', '_modelo_de_relatorio_parcial_1', '_piaex_', '_plantacao', '_processamento_de_carnes_final_02', '_processamento_de_queijos', '_prof', '_resultado_definitivo', '_resultado_provisorio']\n"
     ]
    }
   ],
   "source": [
    "print(vectorizer.get_feature_names()[:200])"
   ]
  },
  {
   "cell_type": "code",
   "execution_count": 147,
   "metadata": {},
   "outputs": [],
   "source": [
    "words = pd.DataFrame(tfidf_matrix.todense(), columns=vectorizer.get_feature_names())"
   ]
  },
  {
   "cell_type": "code",
   "execution_count": 149,
   "metadata": {},
   "outputs": [
    {
     "data": {
      "text/plain": [
       "0.000000    999\n",
       "0.195612      1\n",
       "Name: útimo, dtype: int64"
      ]
     },
     "execution_count": 149,
     "metadata": {},
     "output_type": "execute_result"
    }
   ],
   "source": [
    "words['útimo'].value_counts()"
   ]
  },
  {
   "cell_type": "code",
   "execution_count": null,
   "metadata": {},
   "outputs": [],
   "source": []
  },
  {
   "cell_type": "code",
   "execution_count": 150,
   "metadata": {},
   "outputs": [],
   "source": [
    "from sklearn.metrics.pairwise import  cosine_similarity"
   ]
  },
  {
   "cell_type": "code",
   "execution_count": 151,
   "metadata": {},
   "outputs": [
    {
     "data": {
      "text/plain": [
       "(1000, 1000)"
      ]
     },
     "execution_count": 151,
     "metadata": {},
     "output_type": "execute_result"
    }
   ],
   "source": [
    "sim = cosine_similarity(tfidf_matrix)\n",
    "\n",
    "sim.shape"
   ]
  },
  {
   "cell_type": "code",
   "execution_count": 152,
   "metadata": {},
   "outputs": [
    {
     "data": {
      "text/plain": [
       "0.04840608582716853"
      ]
     },
     "execution_count": 152,
     "metadata": {},
     "output_type": "execute_result"
    }
   ],
   "source": [
    "sim[0][1]"
   ]
  },
  {
   "cell_type": "code",
   "execution_count": 153,
   "metadata": {},
   "outputs": [
    {
     "data": {
      "text/plain": [
       "0.0"
      ]
     },
     "execution_count": 153,
     "metadata": {},
     "output_type": "execute_result"
    }
   ],
   "source": [
    "sim[0][100]"
   ]
  },
  {
   "cell_type": "code",
   "execution_count": 154,
   "metadata": {},
   "outputs": [
    {
     "data": {
      "text/plain": [
       "'campus barbacena divulga resultado provisório viii simpósio pesquisa inovação campus barbacena divulgou resultado provisório viii simpósio pesquisa inovação estudantes devem ficar atentos observações constam final documento leia documento'"
      ]
     },
     "execution_count": 154,
     "metadata": {},
     "output_type": "execute_result"
    }
   ],
   "source": [
    "df.iloc[0].doc"
   ]
  },
  {
   "cell_type": "code",
   "execution_count": null,
   "metadata": {},
   "outputs": [],
   "source": []
  },
  {
   "cell_type": "code",
   "execution_count": 157,
   "metadata": {},
   "outputs": [],
   "source": [
    "from leia import SentimentIntensityAnalyzer"
   ]
  },
  {
   "cell_type": "code",
   "execution_count": 158,
   "metadata": {},
   "outputs": [],
   "source": [
    "s = SentimentIntensityAnalyzer()"
   ]
  },
  {
   "cell_type": "code",
   "execution_count": 160,
   "metadata": {},
   "outputs": [
    {
     "data": {
      "text/plain": [
       "{'neg': 0.0, 'neu': 0.633, 'pos': 0.367, 'compound': 0.4404}"
      ]
     },
     "execution_count": 160,
     "metadata": {},
     "output_type": "execute_result"
    }
   ],
   "source": [
    "for t in lista:\n",
    "    s.polarity_scores(t)"
   ]
  },
  {
   "cell_type": "code",
   "execution_count": null,
   "metadata": {},
   "outputs": [],
   "source": []
  },
  {
   "cell_type": "code",
   "execution_count": 166,
   "metadata": {},
   "outputs": [],
   "source": [
    "import requests, bs4"
   ]
  },
  {
   "cell_type": "code",
   "execution_count": 163,
   "metadata": {},
   "outputs": [],
   "source": [
    "html = requests.get('https://barbacenaonline.com.br/').text"
   ]
  },
  {
   "cell_type": "code",
   "execution_count": 167,
   "metadata": {},
   "outputs": [],
   "source": [
    "soup = bs4.BeautifulSoup(html)"
   ]
  },
  {
   "cell_type": "code",
   "execution_count": 176,
   "metadata": {},
   "outputs": [
    {
     "ename": "TypeError",
     "evalue": "'NoneType' object is not callable",
     "output_type": "error",
     "traceback": [
      "\u001b[0;31m---------------------------------------------------------------------------\u001b[0m",
      "\u001b[0;31mTypeError\u001b[0m                                 Traceback (most recent call last)",
      "\u001b[0;32m<ipython-input-176-762a2b07c4b2>\u001b[0m in \u001b[0;36m<module>\u001b[0;34m\u001b[0m\n\u001b[1;32m      1\u001b[0m \u001b[0;32mfor\u001b[0m \u001b[0mtag\u001b[0m \u001b[0;32min\u001b[0m \u001b[0msoup\u001b[0m\u001b[0;34m.\u001b[0m\u001b[0mselect\u001b[0m\u001b[0;34m(\u001b[0m\u001b[0;34m'a[title*=\"\"]'\u001b[0m\u001b[0;34m)\u001b[0m\u001b[0;34m:\u001b[0m\u001b[0;34m\u001b[0m\u001b[0m\n\u001b[0;32m----> 2\u001b[0;31m     \u001b[0mtag\u001b[0m\u001b[0;34m.\u001b[0m\u001b[0mtitle\u001b[0m\u001b[0;34m(\u001b[0m\u001b[0;34m)\u001b[0m\u001b[0;34m\u001b[0m\u001b[0m\n\u001b[0m",
      "\u001b[0;31mTypeError\u001b[0m: 'NoneType' object is not callable"
     ]
    }
   ],
   "source": [
    "for tag in soup.select('a[title*=\"\"]'):\n",
    "    tag.title()"
   ]
  },
  {
   "cell_type": "code",
   "execution_count": 180,
   "metadata": {},
   "outputs": [],
   "source": [
    "titulos = re.findall(r'<a +title=\"(.+?)\"', html)"
   ]
  },
  {
   "cell_type": "code",
   "execution_count": 183,
   "metadata": {},
   "outputs": [],
   "source": [
    "titulos = [(s.polarity_scores(t)['compound'], t) for t in titulos]"
   ]
  },
  {
   "cell_type": "code",
   "execution_count": 184,
   "metadata": {},
   "outputs": [
    {
     "data": {
      "text/plain": [
       "[(0.0, 'Falsos passageiros agridem e roubam taxista'),\n",
       " (0.0, 'Desentendimento acaba em homicídio no Nova Cidade'),\n",
       " (0.0, 'Presentes exclusivos e personalizados são com a Volar'),\n",
       " (-0.886, 'Acidente no Ipanema deixa motociclista gravemente ferido'),\n",
       " (-0.34, 'Casa de idosa pega fogo em Prados'),\n",
       " (0.0, 'Presentes exclusivos e personalizados são com a Volar'),\n",
       " (-0.4939, 'Novo processo seletivo da Prefeitura na área da educação'),\n",
       " (0.0, 'Paula Campos representa Barbacena no Miss Minas Gerais'),\n",
       " (0.0, 'Veículo bate em caminhão estacionado'),\n",
       " (0.4215, 'Mais um animal resgatado'),\n",
       " (-0.802, 'Acidente durante treinamento provoca a morte de jovem piloto'),\n",
       " (0.0, 'Quadrilha é presa por tráfico de drogas e corrupção de menores'),\n",
       " (0.0, 'Desentendimento acaba em homicídio no Nova Cidade'),\n",
       " (-0.34, 'Casa de idosa pega fogo em Prados'),\n",
       " (-0.7964, 'Agente Penitenciário sofre acidente na estrada para SJDR'),\n",
       " (0.0, 'Bombeiros resgatam ouriço em quintal'),\n",
       " (0.0, 'Falsos passageiros agridem e roubam taxista'),\n",
       " (0.0, 'Lagarto de um metro e meio entra em residência'),\n",
       " (0.0, 'PM apreende pés de maconha em condomínio do Grogotó'),\n",
       " (0.0, 'Presságios'),\n",
       " (0.0, '18 de outubro &#8211; Dia do médico'),\n",
       " (0.0, 'Sine divulga 17 vagas de emprego com salários de até R$3.816'),\n",
       " (0.0, 'Falsos passageiros agridem e roubam taxista'),\n",
       " (0.0, 'Desentendimento acaba em homicídio no Nova Cidade'),\n",
       " (0.0, 'Presentes exclusivos e personalizados são com a Volar'),\n",
       " (-0.886, 'Acidente no Ipanema deixa motociclista gravemente ferido'),\n",
       " (-0.34, 'Casa de idosa pega fogo em Prados'),\n",
       " (0.0, 'Falsos passageiros agridem e roubam taxista'),\n",
       " (0.0, 'Desentendimento acaba em homicídio no Nova Cidade'),\n",
       " (0.0, 'Presentes exclusivos e personalizados são com a Volar')]"
      ]
     },
     "execution_count": 184,
     "metadata": {},
     "output_type": "execute_result"
    }
   ],
   "source": [
    "titulos"
   ]
  },
  {
   "cell_type": "code",
   "execution_count": 188,
   "metadata": {},
   "outputs": [],
   "source": [
    "titulos.sort(key=lambda x: x[0], reverse=True)"
   ]
  },
  {
   "cell_type": "code",
   "execution_count": 189,
   "metadata": {},
   "outputs": [
    {
     "data": {
      "text/plain": [
       "[(0.4215, 'Mais um animal resgatado'),\n",
       " (0.0, 'Falsos passageiros agridem e roubam taxista'),\n",
       " (0.0, 'Desentendimento acaba em homicídio no Nova Cidade'),\n",
       " (0.0, 'Presentes exclusivos e personalizados são com a Volar'),\n",
       " (0.0, 'Presentes exclusivos e personalizados são com a Volar'),\n",
       " (0.0, 'Paula Campos representa Barbacena no Miss Minas Gerais'),\n",
       " (0.0, 'Veículo bate em caminhão estacionado'),\n",
       " (0.0, 'Quadrilha é presa por tráfico de drogas e corrupção de menores'),\n",
       " (0.0, 'Desentendimento acaba em homicídio no Nova Cidade'),\n",
       " (0.0, 'Bombeiros resgatam ouriço em quintal'),\n",
       " (0.0, 'Falsos passageiros agridem e roubam taxista'),\n",
       " (0.0, 'Lagarto de um metro e meio entra em residência'),\n",
       " (0.0, 'PM apreende pés de maconha em condomínio do Grogotó'),\n",
       " (0.0, 'Presságios'),\n",
       " (0.0, '18 de outubro &#8211; Dia do médico'),\n",
       " (0.0, 'Sine divulga 17 vagas de emprego com salários de até R$3.816'),\n",
       " (0.0, 'Falsos passageiros agridem e roubam taxista'),\n",
       " (0.0, 'Desentendimento acaba em homicídio no Nova Cidade'),\n",
       " (0.0, 'Presentes exclusivos e personalizados são com a Volar'),\n",
       " (0.0, 'Falsos passageiros agridem e roubam taxista'),\n",
       " (0.0, 'Desentendimento acaba em homicídio no Nova Cidade'),\n",
       " (0.0, 'Presentes exclusivos e personalizados são com a Volar'),\n",
       " (-0.34, 'Casa de idosa pega fogo em Prados'),\n",
       " (-0.34, 'Casa de idosa pega fogo em Prados'),\n",
       " (-0.34, 'Casa de idosa pega fogo em Prados'),\n",
       " (-0.4939, 'Novo processo seletivo da Prefeitura na área da educação'),\n",
       " (-0.7964, 'Agente Penitenciário sofre acidente na estrada para SJDR'),\n",
       " (-0.802, 'Acidente durante treinamento provoca a morte de jovem piloto'),\n",
       " (-0.886, 'Acidente no Ipanema deixa motociclista gravemente ferido'),\n",
       " (-0.886, 'Acidente no Ipanema deixa motociclista gravemente ferido')]"
      ]
     },
     "execution_count": 189,
     "metadata": {},
     "output_type": "execute_result"
    }
   ],
   "source": [
    "titulos"
   ]
  },
  {
   "cell_type": "code",
   "execution_count": null,
   "metadata": {},
   "outputs": [],
   "source": []
  }
 ],
 "metadata": {
  "kernelspec": {
   "display_name": "Python 3",
   "language": "python",
   "name": "python3"
  },
  "language_info": {
   "codemirror_mode": {
    "name": "ipython",
    "version": 3
   },
   "file_extension": ".py",
   "mimetype": "text/x-python",
   "name": "python",
   "nbconvert_exporter": "python",
   "pygments_lexer": "ipython3",
   "version": "3.6.5"
  }
 },
 "nbformat": 4,
 "nbformat_minor": 2
}
