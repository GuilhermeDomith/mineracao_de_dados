{
 "cells": [
  {
   "cell_type": "code",
   "execution_count": 1,
   "metadata": {},
   "outputs": [],
   "source": [
    "import pandas as pd\n",
    "import numpy as np\n",
    "import bs4, requests, re\n",
    "\n",
    "import nltk\n",
    "from unicodedata import normalize\n",
    "from string import punctuation\n",
    "from sklearn.feature_extraction.text import TfidfVectorizer\n",
    "from sklearn.metrics.pairwise import  cosine_similarity\n"
   ]
  },
  {
   "cell_type": "code",
   "execution_count": 2,
   "metadata": {},
   "outputs": [],
   "source": [
    "df = pd.read_csv('https://raw.githubusercontent.com/rafjaa/curso-mineracao-de-dados-aplicada/master/data/df_noticias_if.csv')"
   ]
  },
  {
   "cell_type": "code",
   "execution_count": 3,
   "metadata": {},
   "outputs": [
    {
     "data": {
      "text/html": [
       "<div>\n",
       "<style scoped>\n",
       "    .dataframe tbody tr th:only-of-type {\n",
       "        vertical-align: middle;\n",
       "    }\n",
       "\n",
       "    .dataframe tbody tr th {\n",
       "        vertical-align: top;\n",
       "    }\n",
       "\n",
       "    .dataframe thead th {\n",
       "        text-align: right;\n",
       "    }\n",
       "</style>\n",
       "<table border=\"1\" class=\"dataframe\">\n",
       "  <thead>\n",
       "    <tr style=\"text-align: right;\">\n",
       "      <th></th>\n",
       "      <th>data</th>\n",
       "      <th>titulo</th>\n",
       "      <th>conteudo</th>\n",
       "    </tr>\n",
       "  </thead>\n",
       "  <tbody>\n",
       "    <tr>\n",
       "      <th>0</th>\n",
       "      <td>14/09/2017</td>\n",
       "      <td>Campus Barbacena divulga Resultado Provisório ...</td>\n",
       "      <td>\\n\\n\\tO Campus Barbacena divulgou o Resultado ...</td>\n",
       "    </tr>\n",
       "    <tr>\n",
       "      <th>1</th>\n",
       "      <td>14/09/2017</td>\n",
       "      <td>Divulgado o Edital de convocação de assembleia...</td>\n",
       "      <td>\\n\\n\\tDivulgado o Edital de convocação de asse...</td>\n",
       "    </tr>\n",
       "    <tr>\n",
       "      <th>2</th>\n",
       "      <td>14/09/2017</td>\n",
       "      <td>Pesquisador da Bélgica realiza palestra no Cam...</td>\n",
       "      <td>\\n\\n\\tO pesquisador da Bélgica, Luc Vankrunkel...</td>\n",
       "    </tr>\n",
       "    <tr>\n",
       "      <th>3</th>\n",
       "      <td>14/09/2017</td>\n",
       "      <td>Divulgada a homologação das inscrições à candi...</td>\n",
       "      <td>\\n\\n\\tDivulgada a homologação das inscrições à...</td>\n",
       "    </tr>\n",
       "    <tr>\n",
       "      <th>4</th>\n",
       "      <td>14/09/2017</td>\n",
       "      <td>Aprovado Regulamento de Eventos, Cerimonial e ...</td>\n",
       "      <td>\\n\\n\\tO Regulamento, aprovado no dia 05 de set...</td>\n",
       "    </tr>\n",
       "  </tbody>\n",
       "</table>\n",
       "</div>"
      ],
      "text/plain": [
       "         data                                             titulo  \\\n",
       "0  14/09/2017  Campus Barbacena divulga Resultado Provisório ...   \n",
       "1  14/09/2017  Divulgado o Edital de convocação de assembleia...   \n",
       "2  14/09/2017  Pesquisador da Bélgica realiza palestra no Cam...   \n",
       "3  14/09/2017  Divulgada a homologação das inscrições à candi...   \n",
       "4  14/09/2017  Aprovado Regulamento de Eventos, Cerimonial e ...   \n",
       "\n",
       "                                            conteudo  \n",
       "0  \\n\\n\\tO Campus Barbacena divulgou o Resultado ...  \n",
       "1  \\n\\n\\tDivulgado o Edital de convocação de asse...  \n",
       "2  \\n\\n\\tO pesquisador da Bélgica, Luc Vankrunkel...  \n",
       "3  \\n\\n\\tDivulgada a homologação das inscrições à...  \n",
       "4  \\n\\n\\tO Regulamento, aprovado no dia 05 de set...  "
      ]
     },
     "execution_count": 3,
     "metadata": {},
     "output_type": "execute_result"
    }
   ],
   "source": [
    "df.head()"
   ]
  },
  {
   "cell_type": "code",
   "execution_count": 4,
   "metadata": {},
   "outputs": [],
   "source": [
    "# Concatenando título e conteúdo\n",
    "df['doc'] = df.apply(lambda row: row['titulo'] + row['conteudo'], axis=1)"
   ]
  },
  {
   "cell_type": "code",
   "execution_count": 5,
   "metadata": {},
   "outputs": [],
   "source": [
    "stopwords = nltk.corpus.stopwords.words('portuguese')\n",
    "stopwords = normalize('NFKD', ' '.join(stopwords)).encode('ASCII', 'ignore').decode().split()\n",
    "\n",
    "stemmer = nltk.stem.RSLPStemmer()\n",
    "\n",
    "def processar_texto(texto):\n",
    "    if texto is None or not texto:\n",
    "        return ''\n",
    "\n",
    "    # Trasnformação do texto em minúsculo e remoção de termo\n",
    "    texto = texto.lower().replace('\\nleia o documento\\n', '')\n",
    "\n",
    "    # Removendo acentuação\n",
    "    texto = normalize('NFKD', texto).encode('ASCII', 'ignore').decode()\n",
    "\n",
    "    # Removendo Pontuação, stopwords, palavras com número e aplicando stemming\n",
    "    texto = ' '.join([stemmer.stem(c) for c in nltk.word_tokenize(texto) \n",
    "                      if (c not in punctuation) and (c not in stopwords) and not (re.match('.*[\\d_].*', c)) ])\n",
    "\n",
    "    return texto\n"
   ]
  },
  {
   "cell_type": "code",
   "execution_count": 6,
   "metadata": {},
   "outputs": [],
   "source": [
    "df['doc'] = df['doc'].apply(processar_texto)"
   ]
  },
  {
   "cell_type": "code",
   "execution_count": 7,
   "metadata": {},
   "outputs": [],
   "source": [
    "vectorizer = TfidfVectorizer(\n",
    "    analyzer='word',\n",
    "    ngram_range=(1, 1),\n",
    "    max_features=None,\n",
    "    binary=False,\n",
    "    use_idf=True\n",
    ")\n",
    "\n",
    "tfidf_matrix = vectorizer.fit_transform(df['doc'])"
   ]
  },
  {
   "cell_type": "code",
   "execution_count": 8,
   "metadata": {},
   "outputs": [
    {
     "name": "stdout",
     "output_type": "stream",
     "text": [
      "['aba', 'abaix', 'abaixo', 'abanc', 'abandon', 'abdin', 'abert', 'abior', 'abn', 'abord', 'abp', 'abr', 'abrac', 'abramal', 'abrang', 'abrangenc', 'abranj', 'abrig', 'abril', 'abrilhant', 'absorv', 'abstrat', 'aca', 'acab', 'academ', 'academc', 'academic', 'academico', 'academicos', 'acamp', 'acas', 'aceit', 'aceitaca', 'acejf', 'acentu', 'acerc', 'acert', 'acerv', 'acess', 'acessi', 'acessibil', 'acessori', 'ach', 'acid', 'acido', 'acim', 'acion', 'aco', 'acolh', 'acolhe', 'acomnpanh', 'acompanh', 'aconselh', 'acontec', 'acontecera', 'aconteceu', 'acord', 'acostum', 'acr', 'acredit', 'acrescent', 'acumul', 'acus', 'ad', 'adalgis', 'adapt', 'adaptaca', 'adaptaco', 'adaptar', 'adelaid', 'adelin', 'adem', 'adend', 'adens', 'adentr', 'adequ', 'adequaca', 'ader', 'ades', 'adesa', 'adi', 'adiant', 'adic', 'adicion', 'adjunt', 'adm', 'administr', 'administraca', 'administracao', 'adminstraca', 'admiraca', 'admisnistr', 'admistr', 'adoca', 'adolesc', 'adolescenc', 'adona', 'ador', 'adormec', 'adorn']\n"
     ]
    }
   ],
   "source": [
    "print(vectorizer.get_feature_names()[:100])"
   ]
  },
  {
   "cell_type": "code",
   "execution_count": 9,
   "metadata": {},
   "outputs": [],
   "source": [
    "words = pd.DataFrame(tfidf_matrix.todense(), columns=vectorizer.get_feature_names())"
   ]
  },
  {
   "cell_type": "code",
   "execution_count": 10,
   "metadata": {},
   "outputs": [
    {
     "data": {
      "text/html": [
       "<div>\n",
       "<style scoped>\n",
       "    .dataframe tbody tr th:only-of-type {\n",
       "        vertical-align: middle;\n",
       "    }\n",
       "\n",
       "    .dataframe tbody tr th {\n",
       "        vertical-align: top;\n",
       "    }\n",
       "\n",
       "    .dataframe thead th {\n",
       "        text-align: right;\n",
       "    }\n",
       "</style>\n",
       "<table border=\"1\" class=\"dataframe\">\n",
       "  <thead>\n",
       "    <tr style=\"text-align: right;\">\n",
       "      <th></th>\n",
       "      <th>aba</th>\n",
       "      <th>abaix</th>\n",
       "      <th>abaixo</th>\n",
       "      <th>abanc</th>\n",
       "      <th>abandon</th>\n",
       "      <th>abdin</th>\n",
       "      <th>abert</th>\n",
       "      <th>abior</th>\n",
       "      <th>abn</th>\n",
       "      <th>abord</th>\n",
       "      <th>...</th>\n",
       "      <th>zik</th>\n",
       "      <th>zika</th>\n",
       "      <th>zikazer</th>\n",
       "      <th>zikazero</th>\n",
       "      <th>zohopublic</th>\n",
       "      <th>zon</th>\n",
       "      <th>zoolog</th>\n",
       "      <th>zoonos</th>\n",
       "      <th>zootecn</th>\n",
       "      <th>zoz</th>\n",
       "    </tr>\n",
       "  </thead>\n",
       "  <tbody>\n",
       "    <tr>\n",
       "      <th>995</th>\n",
       "      <td>0.0</td>\n",
       "      <td>0.0</td>\n",
       "      <td>0.0</td>\n",
       "      <td>0.0</td>\n",
       "      <td>0.0</td>\n",
       "      <td>0.0</td>\n",
       "      <td>0.0</td>\n",
       "      <td>0.0</td>\n",
       "      <td>0.0</td>\n",
       "      <td>0.0</td>\n",
       "      <td>...</td>\n",
       "      <td>0.0</td>\n",
       "      <td>0.0</td>\n",
       "      <td>0.0</td>\n",
       "      <td>0.0</td>\n",
       "      <td>0.0</td>\n",
       "      <td>0.0</td>\n",
       "      <td>0.0</td>\n",
       "      <td>0.0</td>\n",
       "      <td>0.0</td>\n",
       "      <td>0.0</td>\n",
       "    </tr>\n",
       "    <tr>\n",
       "      <th>996</th>\n",
       "      <td>0.0</td>\n",
       "      <td>0.0</td>\n",
       "      <td>0.0</td>\n",
       "      <td>0.0</td>\n",
       "      <td>0.0</td>\n",
       "      <td>0.0</td>\n",
       "      <td>0.0</td>\n",
       "      <td>0.0</td>\n",
       "      <td>0.0</td>\n",
       "      <td>0.0</td>\n",
       "      <td>...</td>\n",
       "      <td>0.0</td>\n",
       "      <td>0.0</td>\n",
       "      <td>0.0</td>\n",
       "      <td>0.0</td>\n",
       "      <td>0.0</td>\n",
       "      <td>0.0</td>\n",
       "      <td>0.0</td>\n",
       "      <td>0.0</td>\n",
       "      <td>0.0</td>\n",
       "      <td>0.0</td>\n",
       "    </tr>\n",
       "    <tr>\n",
       "      <th>997</th>\n",
       "      <td>0.0</td>\n",
       "      <td>0.0</td>\n",
       "      <td>0.0</td>\n",
       "      <td>0.0</td>\n",
       "      <td>0.0</td>\n",
       "      <td>0.0</td>\n",
       "      <td>0.0</td>\n",
       "      <td>0.0</td>\n",
       "      <td>0.0</td>\n",
       "      <td>0.0</td>\n",
       "      <td>...</td>\n",
       "      <td>0.0</td>\n",
       "      <td>0.0</td>\n",
       "      <td>0.0</td>\n",
       "      <td>0.0</td>\n",
       "      <td>0.0</td>\n",
       "      <td>0.0</td>\n",
       "      <td>0.0</td>\n",
       "      <td>0.0</td>\n",
       "      <td>0.0</td>\n",
       "      <td>0.0</td>\n",
       "    </tr>\n",
       "    <tr>\n",
       "      <th>998</th>\n",
       "      <td>0.0</td>\n",
       "      <td>0.0</td>\n",
       "      <td>0.0</td>\n",
       "      <td>0.0</td>\n",
       "      <td>0.0</td>\n",
       "      <td>0.0</td>\n",
       "      <td>0.0</td>\n",
       "      <td>0.0</td>\n",
       "      <td>0.0</td>\n",
       "      <td>0.0</td>\n",
       "      <td>...</td>\n",
       "      <td>0.0</td>\n",
       "      <td>0.0</td>\n",
       "      <td>0.0</td>\n",
       "      <td>0.0</td>\n",
       "      <td>0.0</td>\n",
       "      <td>0.0</td>\n",
       "      <td>0.0</td>\n",
       "      <td>0.0</td>\n",
       "      <td>0.0</td>\n",
       "      <td>0.0</td>\n",
       "    </tr>\n",
       "    <tr>\n",
       "      <th>999</th>\n",
       "      <td>0.0</td>\n",
       "      <td>0.0</td>\n",
       "      <td>0.0</td>\n",
       "      <td>0.0</td>\n",
       "      <td>0.0</td>\n",
       "      <td>0.0</td>\n",
       "      <td>0.0</td>\n",
       "      <td>0.0</td>\n",
       "      <td>0.0</td>\n",
       "      <td>0.0</td>\n",
       "      <td>...</td>\n",
       "      <td>0.0</td>\n",
       "      <td>0.0</td>\n",
       "      <td>0.0</td>\n",
       "      <td>0.0</td>\n",
       "      <td>0.0</td>\n",
       "      <td>0.0</td>\n",
       "      <td>0.0</td>\n",
       "      <td>0.0</td>\n",
       "      <td>0.0</td>\n",
       "      <td>0.0</td>\n",
       "    </tr>\n",
       "  </tbody>\n",
       "</table>\n",
       "<p>5 rows × 5959 columns</p>\n",
       "</div>"
      ],
      "text/plain": [
       "     aba  abaix  abaixo  abanc  abandon  abdin  abert  abior  abn  abord ...   \\\n",
       "995  0.0    0.0     0.0    0.0      0.0    0.0    0.0    0.0  0.0    0.0 ...    \n",
       "996  0.0    0.0     0.0    0.0      0.0    0.0    0.0    0.0  0.0    0.0 ...    \n",
       "997  0.0    0.0     0.0    0.0      0.0    0.0    0.0    0.0  0.0    0.0 ...    \n",
       "998  0.0    0.0     0.0    0.0      0.0    0.0    0.0    0.0  0.0    0.0 ...    \n",
       "999  0.0    0.0     0.0    0.0      0.0    0.0    0.0    0.0  0.0    0.0 ...    \n",
       "\n",
       "     zik  zika  zikazer  zikazero  zohopublic  zon  zoolog  zoonos  zootecn  \\\n",
       "995  0.0   0.0      0.0       0.0         0.0  0.0     0.0     0.0      0.0   \n",
       "996  0.0   0.0      0.0       0.0         0.0  0.0     0.0     0.0      0.0   \n",
       "997  0.0   0.0      0.0       0.0         0.0  0.0     0.0     0.0      0.0   \n",
       "998  0.0   0.0      0.0       0.0         0.0  0.0     0.0     0.0      0.0   \n",
       "999  0.0   0.0      0.0       0.0         0.0  0.0     0.0     0.0      0.0   \n",
       "\n",
       "     zoz  \n",
       "995  0.0  \n",
       "996  0.0  \n",
       "997  0.0  \n",
       "998  0.0  \n",
       "999  0.0  \n",
       "\n",
       "[5 rows x 5959 columns]"
      ]
     },
     "execution_count": 10,
     "metadata": {},
     "output_type": "execute_result"
    }
   ],
   "source": [
    "words.tail()"
   ]
  },
  {
   "cell_type": "code",
   "execution_count": null,
   "metadata": {},
   "outputs": [],
   "source": []
  },
  {
   "cell_type": "code",
   "execution_count": 108,
   "metadata": {},
   "outputs": [],
   "source": [
    "texto_teste = 'Divulgado o edital de iniciação científica'"
   ]
  },
  {
   "cell_type": "code",
   "execution_count": null,
   "metadata": {},
   "outputs": [],
   "source": []
  },
  {
   "cell_type": "code",
   "execution_count": 109,
   "metadata": {},
   "outputs": [],
   "source": [
    "texto_teste = processar_texto(texto_teste)"
   ]
  },
  {
   "cell_type": "code",
   "execution_count": 110,
   "metadata": {},
   "outputs": [],
   "source": [
    "texto_teste = pd.DataFrame({'doc': [texto_teste]})"
   ]
  },
  {
   "cell_type": "code",
   "execution_count": 111,
   "metadata": {},
   "outputs": [],
   "source": [
    "texto_teste = vectorizer.transform(texto_teste['doc'])"
   ]
  },
  {
   "cell_type": "code",
   "execution_count": 112,
   "metadata": {},
   "outputs": [],
   "source": [
    "texto_teste = pd.DataFrame(texto_teste.todense(), columns=vectorizer.get_feature_names())"
   ]
  },
  {
   "cell_type": "code",
   "execution_count": 113,
   "metadata": {},
   "outputs": [],
   "source": [
    "words_sim = words.append(texto_teste, ignore_index=True)"
   ]
  },
  {
   "cell_type": "code",
   "execution_count": 114,
   "metadata": {},
   "outputs": [],
   "source": [
    "sim = cosine_similarity(words_sim)"
   ]
  },
  {
   "cell_type": "code",
   "execution_count": 117,
   "metadata": {},
   "outputs": [
    {
     "data": {
      "text/html": [
       "<div>\n",
       "<style scoped>\n",
       "    .dataframe tbody tr th:only-of-type {\n",
       "        vertical-align: middle;\n",
       "    }\n",
       "\n",
       "    .dataframe tbody tr th {\n",
       "        vertical-align: top;\n",
       "    }\n",
       "\n",
       "    .dataframe thead th {\n",
       "        text-align: right;\n",
       "    }\n",
       "</style>\n",
       "<table border=\"1\" class=\"dataframe\">\n",
       "  <thead>\n",
       "    <tr style=\"text-align: right;\">\n",
       "      <th></th>\n",
       "      <th>data</th>\n",
       "      <th>titulo</th>\n",
       "      <th>conteudo</th>\n",
       "      <th>doc</th>\n",
       "    </tr>\n",
       "  </thead>\n",
       "  <tbody>\n",
       "    <tr>\n",
       "      <th>699</th>\n",
       "      <td>05/07/2016</td>\n",
       "      <td>Divulgado o Resultado Provisório dos Projetos ...</td>\n",
       "      <td>\\n\\n\\tDivulgado o Resultado Provisório dos Pro...</td>\n",
       "      <td>divulg result provisori projet iniciaca cienti...</td>\n",
       "    </tr>\n",
       "    <tr>\n",
       "      <th>946</th>\n",
       "      <td>15/02/2016</td>\n",
       "      <td>Publicada retificação do resultado final do Ca...</td>\n",
       "      <td>\\n\\n\\tPublicada retificação do resultado final...</td>\n",
       "      <td>public retificaca result final campu barbacen ...</td>\n",
       "    </tr>\n",
       "    <tr>\n",
       "      <th>997</th>\n",
       "      <td>15/12/2015</td>\n",
       "      <td>Campus Barbacena divulga os resultados provisó...</td>\n",
       "      <td>\\n\\n\\tCampus Barbacena divulga os resultados p...</td>\n",
       "      <td>campu barbacen divulg result provisori projet ...</td>\n",
       "    </tr>\n",
       "    <tr>\n",
       "      <th>939</th>\n",
       "      <td>17/02/2016</td>\n",
       "      <td>Oportunidade de bolsa de iniciação científica ...</td>\n",
       "      <td>\\n\\n\\tFoi lançado o edital para seleção de um ...</td>\n",
       "      <td>oportun bols iniciaca cientif alun curs licenc...</td>\n",
       "    </tr>\n",
       "    <tr>\n",
       "      <th>660</th>\n",
       "      <td>08/08/2016</td>\n",
       "      <td>Estão abertas as inscrições para o VII Simpósi...</td>\n",
       "      <td>\\n\\n\\tEstão abertas as inscrições para o VII S...</td>\n",
       "      <td>abert inscrico vii simposi pesquis inovaca vi ...</td>\n",
       "    </tr>\n",
       "  </tbody>\n",
       "</table>\n",
       "</div>"
      ],
      "text/plain": [
       "           data                                             titulo  \\\n",
       "699  05/07/2016  Divulgado o Resultado Provisório dos Projetos ...   \n",
       "946  15/02/2016  Publicada retificação do resultado final do Ca...   \n",
       "997  15/12/2015  Campus Barbacena divulga os resultados provisó...   \n",
       "939  17/02/2016  Oportunidade de bolsa de iniciação científica ...   \n",
       "660  08/08/2016  Estão abertas as inscrições para o VII Simpósi...   \n",
       "\n",
       "                                              conteudo  \\\n",
       "699  \\n\\n\\tDivulgado o Resultado Provisório dos Pro...   \n",
       "946  \\n\\n\\tPublicada retificação do resultado final...   \n",
       "997  \\n\\n\\tCampus Barbacena divulga os resultados p...   \n",
       "939  \\n\\n\\tFoi lançado o edital para seleção de um ...   \n",
       "660  \\n\\n\\tEstão abertas as inscrições para o VII S...   \n",
       "\n",
       "                                                   doc  \n",
       "699  divulg result provisori projet iniciaca cienti...  \n",
       "946  public retificaca result final campu barbacen ...  \n",
       "997  campu barbacen divulg result provisori projet ...  \n",
       "939  oportun bols iniciaca cientif alun curs licenc...  \n",
       "660  abert inscrico vii simposi pesquis inovaca vi ...  "
      ]
     },
     "execution_count": 117,
     "metadata": {},
     "output_type": "execute_result"
    }
   ],
   "source": [
    "df.loc[pd.Series(sim[-1]).sort_values(ascending=False)[1:6].index]"
   ]
  },
  {
   "cell_type": "code",
   "execution_count": null,
   "metadata": {},
   "outputs": [],
   "source": []
  }
 ],
 "metadata": {
  "kernelspec": {
   "display_name": "Python 3",
   "language": "python",
   "name": "python3"
  },
  "language_info": {
   "codemirror_mode": {
    "name": "ipython",
    "version": 3
   },
   "file_extension": ".py",
   "mimetype": "text/x-python",
   "name": "python",
   "nbconvert_exporter": "python",
   "pygments_lexer": "ipython3",
   "version": "3.6.5"
  }
 },
 "nbformat": 4,
 "nbformat_minor": 2
}
